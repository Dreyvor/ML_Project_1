{
 "cells": [
  {
   "cell_type": "markdown",
   "metadata": {},
   "source": [
    "## Setting up: "
   ]
  },
  {
   "cell_type": "code",
   "execution_count": 1,
   "metadata": {},
   "outputs": [],
   "source": [
    "# Useful starting lines\n",
    "%matplotlib inline\n",
    "import numpy as np\n",
    "import matplotlib.pyplot as plt\n",
    "\n",
    "import datetime\n",
    "\n",
    "%load_ext autoreload\n",
    "%autoreload 2\n",
    "\n",
    "#additional functions:\n",
    "from add_functions.proj1_helpers import *\n",
    "from add_functions.ml_methods_labs import *"
   ]
  },
  {
   "cell_type": "markdown",
   "metadata": {},
   "source": [
    "### Load Data: \n",
    "\n",
    "- train.csv - Training set of 250000 events. The file starts with the ID column, then the label column (the y you have to predict), and finally 30 feature columns.\n",
    "- test.csv - The test set of around 568238 events - Everything as above, except the label is missing.\n",
    "- sample-submission.csv - a sample submission file in the correct format. The sample submission always predicts -1, that is ‘background’.\n",
    "\n",
    "Note: \n",
    "- all variables are floating point, except PRI_jet_num which is integer\n",
    "- variables prefixed with PRI (for PRImitives) are “raw” quantities about the bunch collision as measured by the detector.\n",
    "- variables prefixed with DER (for DERived) are quantities computed from the primitive features, which were selected by the physicists of ATLAS.\n",
    "- it can happen that for some entries some variables are meaningless or cannot be computed; in this case, their value is −999.0, which is outside the normal range of all variables."
   ]
  },
  {
   "cell_type": "code",
   "execution_count": 2,
   "metadata": {},
   "outputs": [],
   "source": [
    "DATA_TRAIN_PATH = '../data/train.csv'  \n",
    "y, tX, ids = load_csv_data(DATA_TRAIN_PATH)"
   ]
  },
  {
   "cell_type": "code",
   "execution_count": 3,
   "metadata": {},
   "outputs": [
    {
     "name": "stdout",
     "output_type": "stream",
     "text": [
      "training data shape: y (250000,), X (250000, 30)\n"
     ]
    }
   ],
   "source": [
    "print(f'training data shape: y {y.shape}, X {tX.shape}')"
   ]
  },
  {
   "cell_type": "code",
   "execution_count": 4,
   "metadata": {},
   "outputs": [
    {
     "data": {
      "text/plain": [
       "StandardScaler()"
      ]
     },
     "execution_count": 4,
     "metadata": {},
     "output_type": "execute_result"
    }
   ],
   "source": [
    "### standardize data:\n",
    "tX_std = standardize(tX)\n",
    "\n",
    "#check if standardization method correct:\n",
    "from sklearn.preprocessing import StandardScaler\n",
    "scaler = StandardScaler()\n",
    "scaler.fit(tX)\n",
    "#print(scaler.transform(tX))"
   ]
  },
  {
   "cell_type": "code",
   "execution_count": 5,
   "metadata": {
    "scrolled": true
   },
   "outputs": [
    {
     "data": {
      "text/plain": [
       "<matplotlib.collections.PathCollection at 0x116f70e48>"
      ]
     },
     "execution_count": 5,
     "metadata": {},
     "output_type": "execute_result"
    },
    {
     "data": {
      "image/png": "[encoded data removed]",
      "text/plain": [
       "<Figure size 432x288 with 1 Axes>"
      ]
     },
     "metadata": {
      "needs_background": "light"
     },
     "output_type": "display_data"
    }
   ],
   "source": [
    "#Plot a few samples of first two coordinates:\n",
    "NUM_POINTS = 40\n",
    "plt.scatter(tX[:NUM_POINTS, 0], tX[:NUM_POINTS, 1], c=y[:NUM_POINTS])"
   ]
  },
  {
   "cell_type": "markdown",
   "metadata": {},
   "source": [
    "## Implement ML methods:\n",
    "\n",
    "You should take care of the following:\n",
    "- Return type: Note that all functions should return: (w, loss), which is the last weight vector of the method, and the corresponding loss value (cost function). Note that while in previous labs you might have kept track of all encountered w for iterative methods, here we only want the last one.\n",
    "- File names: Please provide all function implementations in a single python file, called implementations.py.\n",
    "- All code should be easily readable and commented.\n",
    "- Note that we might automatically call your provided methods and evaluate for correct implementation"
   ]
  },
  {
   "cell_type": "markdown",
   "metadata": {},
   "source": [
    "### Least Squares GD: \n",
    "Linear regression using gradient descent. "
   ]
  },
  {
   "cell_type": "code",
   "execution_count": 6,
   "metadata": {},
   "outputs": [],
   "source": [
    "def gradient_MSE(y, tx, w):\n",
    "    return (-1 / len(y)) * tx.T @ (y - tx @ w)"
   ]
  },
  {
   "cell_type": "code",
   "execution_count": 7,
   "metadata": {},
   "outputs": [],
   "source": [
    "def MSE_loss(y, tx, w):\n",
    "    \"\"\"Calculate the loss.\n",
    "    You can calculate the loss using mse or mae.\n",
    "    \"\"\"\n",
    "    MSE = np.square(np.subtract(y,tx@w)).mean()\n",
    "    return MSE"
   ]
  },
  {
   "cell_type": "code",
   "execution_count": 8,
   "metadata": {},
   "outputs": [],
   "source": [
    "def least_squares_GD(y, tx, initial_w, max_iters, gamma):\n",
    "    losses = []\n",
    "    w = initial_w\n",
    "    for n_iter in range(max_iters):\n",
    "        grad = gradient_MSE(y, tx, w)\n",
    "        loss = MSE_loss(y, tx, w)\n",
    "        w -= gamma * grad\n",
    "        # store w and loss:\n",
    "        losses.append(loss)\n",
    "        if n_iter%10 == 0:\n",
    "            print(\"Least squares gradient Descent({bi}/{ti}): loss={l}\".format(\n",
    "                bi=n_iter, ti=max_iters - 1, l=loss))\n",
    "    return w, losses, losses[-1]"
   ]
  },
  {
   "cell_type": "code",
   "execution_count": 9,
   "metadata": {},
   "outputs": [
    {
     "name": "stdout",
     "output_type": "stream",
     "text": [
      "Least squares gradient Descent(0/99): loss=1.0\n",
      "Least squares gradient Descent(10/99): loss=0.9304690034359392\n",
      "Least squares gradient Descent(20/99): loss=0.9005640052353776\n",
      "Least squares gradient Descent(30/99): loss=0.8812402327377723\n",
      "Least squares gradient Descent(40/99): loss=0.8677446947443402\n",
      "Least squares gradient Descent(50/99): loss=0.8580286184137202\n",
      "Least squares gradient Descent(60/99): loss=0.8508369618440981\n",
      "Least squares gradient Descent(70/99): loss=0.8453557643729467\n",
      "Least squares gradient Descent(80/99): loss=0.8410503624035713\n",
      "Least squares gradient Descent(90/99): loss=0.8375665444536083\n"
     ]
    },
    {
     "data": {
      "text/plain": [
       "[<matplotlib.lines.Line2D at 0x107042e10>]"
      ]
     },
     "execution_count": 9,
     "metadata": {},
     "output_type": "execute_result"
    },
    {
     "data": {
      "image/png": "[encoded data removed]",
      "text/plain": [
       "<Figure size 432x288 with 1 Axes>"
      ]
     },
     "metadata": {
      "needs_background": "light"
     },
     "output_type": "display_data"
    }
   ],
   "source": [
    "initial_w = np.zeros(tX_std.shape[1])\n",
    "max_iters = 100\n",
    "gamma = 0.01\n",
    "w_ls_GD, losses_ls_GD, final_loss_ls_GD = least_squares_GD(\n",
    "    y, tX_std, initial_w, max_iters, gamma)\n",
    "plt.plot(losses_ls_GD)"
   ]
  },
  {
   "cell_type": "code",
   "execution_count": 10,
   "metadata": {},
   "outputs": [
    {
     "data": {
      "text/plain": [
       "(0.8346674852146734, 0.8346674852146734)"
      ]
     },
     "execution_count": 10,
     "metadata": {},
     "output_type": "execute_result"
    }
   ],
   "source": [
    "from sklearn.metrics import mean_squared_error\n",
    "#verify that MSE gives same error as MSE from sklearn:\n",
    "mean_squared_error(y, tX_std @ w_ls_GD), MSE_loss(y, tX_std, w_ls_GD)"
   ]
  },
  {
   "cell_type": "markdown",
   "metadata": {},
   "source": [
    "### Least Squares SGD:\n",
    "Linear regression using stochastic gradient descent"
   ]
  },
  {
   "cell_type": "code",
   "execution_count": 11,
   "metadata": {
    "run_control": {
     "marked": true
    }
   },
   "outputs": [],
   "source": [
    "def least_squares_SGD(y, tx, initial_w, max_iters, gamma):\n",
    "    batch_size = 1\n",
    "    \"\"\"Stochastic gradient descent algorithm.\"\"\"\n",
    "    losses = []\n",
    "    w = initial_w\n",
    "    for n_iter in range(max_iters):\n",
    "        for minibatch_y, minibatch_tx in batch_iter(y, tx, batch_size):\n",
    "            grad = gradient_MSE(minibatch_y, minibatch_tx, w)\n",
    "            loss = MSE_loss(minibatch_y, minibatch_tx, w)\n",
    "            w -= gamma * grad\n",
    "            # store w and loss\n",
    "            losses.append(loss)\n",
    "            if n_iter%10==0: \n",
    "                print(\"Least squares gradient Descent({bi}/{ti}): loss={l}\".format(\n",
    "                    bi=n_iter, ti=max_iters - 1, l=loss))\n",
    "    return w, losses, losses[-1]"
   ]
  },
  {
   "cell_type": "code",
   "execution_count": 12,
   "metadata": {
    "scrolled": false
   },
   "outputs": [
    {
     "name": "stdout",
     "output_type": "stream",
     "text": [
      "Least squares gradient Descent(0/99): loss=1.0\n",
      "Least squares gradient Descent(10/99): loss=1.0797910684702874\n",
      "Least squares gradient Descent(20/99): loss=1.0657656144930505\n",
      "Least squares gradient Descent(30/99): loss=1.0652614019923685\n",
      "Least squares gradient Descent(40/99): loss=1.0131502989522339\n",
      "Least squares gradient Descent(50/99): loss=0.8832795620690066\n",
      "Least squares gradient Descent(60/99): loss=0.7178463903093392\n",
      "Least squares gradient Descent(70/99): loss=1.0063937481998635\n",
      "Least squares gradient Descent(80/99): loss=1.0460242363646226\n",
      "Least squares gradient Descent(90/99): loss=0.9524998940927653\n"
     ]
    },
    {
     "data": {
      "text/plain": [
       "[<matplotlib.lines.Line2D at 0x117183a90>]"
      ]
     },
     "execution_count": 12,
     "metadata": {},
     "output_type": "execute_result"
    },
    {
     "data": {
      "image/png": "[encoded data removed]",
      "text/plain": [
       "<Figure size 432x288 with 1 Axes>"
      ]
     },
     "metadata": {
      "needs_background": "light"
     },
     "output_type": "display_data"
    }
   ],
   "source": [
    "initial_w = np.zeros(tX_std.shape[1])\n",
    "max_iters = 100\n",
    "gamma = 0.001\n",
    "w_ls_SGD, losses_ls_SGD, final_loss_ls_SGD = least_squares_SGD(y, tX_std, initial_w, max_iters,\n",
    "                                         gamma)\n",
    "plt.plot(losses_ls_SGD)"
   ]
  },
  {
   "cell_type": "markdown",
   "metadata": {},
   "source": [
    "### Least Squares:\n",
    "Least squares regression using normal equations. Solve $A^TAx = A^Ty$, Ax = b → x = np.linalg.solve(A, b)"
   ]
  },
  {
   "cell_type": "code",
   "execution_count": 13,
   "metadata": {},
   "outputs": [],
   "source": [
    "def least_squares(y, tX):\n",
    "    w = np.linalg.solve(tX.T @ tX, tX.T @ y)\n",
    "    loss = MSE_loss(y, tX, w)\n",
    "    return w, loss"
   ]
  },
  {
   "cell_type": "code",
   "execution_count": 14,
   "metadata": {},
   "outputs": [
    {
     "data": {
      "text/plain": [
       "(array([ 2.93788277e-02, -2.52531474e-01, -2.54791125e-01, -3.03696826e-02,\n",
       "        -1.40144781e+00,  2.95701641e-01, -1.07889474e+01,  2.67880862e-01,\n",
       "        -2.44934951e-03, -3.28854694e+02, -1.82647888e-01,  1.14039627e-01,\n",
       "         2.05045969e+01,  6.38905957e+01, -3.18961844e-04, -1.80884303e-03,\n",
       "         6.29996662e+01, -4.48641741e-04,  1.54379312e-03,  1.21462700e-01,\n",
       "         3.95268515e-04, -6.33223483e-02, -2.06747091e-01, -1.16655759e-01,\n",
       "         9.86256834e-02,  1.67907660e-01, -3.35146276e-02, -2.98358672e+00,\n",
       "        -5.36388116e+00,  2.78501929e+02]),\n",
       " 0.7779046298744752)"
      ]
     },
     "execution_count": 14,
     "metadata": {},
     "output_type": "execute_result"
    }
   ],
   "source": [
    "w_ls, loss_ls = least_squares(y, tX_std)\n",
    "w_ls, loss_ls"
   ]
  },
  {
   "cell_type": "code",
   "execution_count": 15,
   "metadata": {},
   "outputs": [],
   "source": [
    "y_pred_ls = predict_labels(w_ls, tX_std)"
   ]
  },
  {
   "cell_type": "markdown",
   "metadata": {},
   "source": [
    "### Ridge Regression: \n",
    "Ridge regression using normal equations. $w^* = (X^T X+\\lambda I)^{-1}X^Ty$"
   ]
  },
  {
   "cell_type": "code",
   "execution_count": 16,
   "metadata": {},
   "outputs": [],
   "source": [
    "lambda_ = 0.02\n",
    "def ridge_regression(y, tX, lambda_):\n",
    "    w = np.linalg.solve(tX.T@tX+lambda_*np.eye(tX.shape[1]),tX.T@y)\n",
    "    loss = MSE_loss(y, tX, w)\n",
    "    return w, loss"
   ]
  },
  {
   "cell_type": "code",
   "execution_count": 17,
   "metadata": {},
   "outputs": [
    {
     "data": {
      "text/plain": [
       "(array([ 2.93666781e-02, -2.52530497e-01, -2.54823428e-01, -3.02099334e-02,\n",
       "         8.53966995e-01,  2.92033690e-01, -1.01968078e+01,  2.67887607e-01,\n",
       "        -2.52731682e-03, -3.50032924e-02, -1.82661485e-01,  1.14032110e-01,\n",
       "         1.70868417e+01,  1.98775744e-01, -3.51306513e-04, -1.76418914e-03,\n",
       "         2.94473957e-01, -4.74274957e-04,  1.59561206e-03,  1.21483014e-01,\n",
       "         4.42749327e-04, -6.32331358e-02, -2.06402058e-01, -1.13409100e-01,\n",
       "         1.05354901e-01,  1.57890918e-01, -1.44627398e-02, -2.74806187e+00,\n",
       "        -5.04492362e+00, -4.45555753e-02]),\n",
       " 0.777912229090242)"
      ]
     },
     "execution_count": 17,
     "metadata": {},
     "output_type": "execute_result"
    }
   ],
   "source": [
    "w_rr, loss_rr = ridge_regression(y, tX_std,lambda_)\n",
    "w_rr, loss_rr"
   ]
  },
  {
   "cell_type": "markdown",
   "metadata": {},
   "source": [
    "### Logistic regression: \n",
    "Logistic regression using gradient descent or SGD. \n",
    "https://github.com/SSaishruthi/LogisticRegression_Vectorized_Implementation/blob/master/Logistic_Regression.ipynb\n",
    "\n",
    "https://machinelearningmedium.com/2017/09/15/regularized-logistic-regression/\n",
    "\n",
    "- cost : $J(w) = -1/m (-y^T log (h)-(1-y)^T log (1-h)) + \\lambda/(2m)||w||^2 ; h = sigmoid(Xw)$"
   ]
  },
  {
   "cell_type": "code",
   "execution_count": 77,
   "metadata": {},
   "outputs": [],
   "source": [
    "def sigmoid_activation(z):\n",
    "    return 1.0 / (1.0 + np.exp(-z))"
   ]
  },
  {
   "cell_type": "code",
   "execution_count": 78,
   "metadata": {},
   "outputs": [],
   "source": [
    "def cost_logistic(tX, y, w, lambda_):\n",
    "    # Returns 1D array of probabilities that the class label == 1\n",
    "    predictions = sigmoid_activation(tX@w)\n",
    "    m = y.shape[0]\n",
    "    #Take the sum of both costs: error when label=1 + error when label=0\n",
    "    cost = -y * np.log(predictions) - (1 - y) * np.log(1 - predictions)\n",
    "    #Take the average cost:\n",
    "    cost = cost.sum() / m\n",
    "    \n",
    "    # regularizer:\n",
    "    if lambda_:\n",
    "        cost += (lambda_ / (2 * m)) * w.T @ w\n",
    "    return cost"
   ]
  },
  {
   "cell_type": "code",
   "execution_count": 82,
   "metadata": {},
   "outputs": [],
   "source": [
    "def update_weights_logistic(tX, y, w, lr, lambda_):\n",
    "    m = len(tX)\n",
    "    #Get Predictions\n",
    "    predictions = sigmoid_activation(np.dot(tX, w))\n",
    "    # slope of the cost function across all observations\n",
    "    gradient = (tX.T @ (predictions - y))\n",
    "\n",
    "    # if regularization\n",
    "    if lambda_:\n",
    "        gradient += lambda_ * w\n",
    "    gradient /= m\n",
    "    # Subtract from our weights to minimize cost\n",
    "    w -= lr * gradient\n",
    "    return w"
   ]
  },
  {
   "cell_type": "code",
   "execution_count": 89,
   "metadata": {},
   "outputs": [],
   "source": [
    "def train(tX, y, initial_w, lr, max_iters, lambda_=None):\n",
    "    cost_history = []\n",
    "    w = initial_w\n",
    "    print(f'Logistic regression starting with: \\nLr:{lr}, max_iters:{max_iters},\\n initial_w:{initial_w}, lambda:{lambda_}')\n",
    "    print('------------------')\n",
    "    print('START TRAINING:')\n",
    "    for i in range(max_iters):\n",
    "        #Calculate error for auditing purposes\n",
    "        cost = cost_logistic(tX, y, w, lambda_)\n",
    "        cost_history.append(cost)\n",
    "\n",
    "        w = update_weights_logistic(tX, y, w, lr, lambda_)\n",
    "\n",
    "        # Log Progress:\n",
    "        if i%10==0: \n",
    "            print(\n",
    "                \"Logistic regression GD({bi}/{ti}): loss={l}\"\n",
    "                .format(bi=i, ti=max_iters - 1, l=cost))\n",
    "\n",
    "    return w, cost_history, cost_history[-1]"
   ]
  },
  {
   "cell_type": "code",
   "execution_count": 90,
   "metadata": {},
   "outputs": [
    {
     "name": "stdout",
     "output_type": "stream",
     "text": [
      "Logistic regression starting with: \n",
      "Lr:0.01, max_iters:200,\n",
      " initial_w:[0. 0. 0. 0. 0. 0. 0. 0. 0. 0. 0. 0. 0. 0. 0. 0. 0. 0. 0. 0. 0. 0. 0. 0.\n",
      " 0. 0. 0. 0. 0. 0.], lambda:None\n",
      "------------------\n",
      "START TRAINING:\n",
      "Logistic regression GD(0/199): loss=0.693147180559945\n",
      "Logistic regression GD(10/199): loss=0.6411288109981924\n",
      "Logistic regression GD(20/199): loss=0.604258525661508\n",
      "Logistic regression GD(30/199): loss=0.5760732091313302\n",
      "Logistic regression GD(40/199): loss=0.5531511710861183\n",
      "Logistic regression GD(50/199): loss=0.5336460967176515\n",
      "Logistic regression GD(60/199): loss=0.5165191442532246\n",
      "Logistic regression GD(70/199): loss=0.5011554066746108\n",
      "Logistic regression GD(80/199): loss=0.48717042489755413\n",
      "Logistic regression GD(90/199): loss=0.47430986530769115\n",
      "Logistic regression GD(100/199): loss=0.46239586703860525\n",
      "Logistic regression GD(110/199): loss=0.45129745285322853\n",
      "Logistic regression GD(120/199): loss=0.440913706362361\n",
      "Logistic regression GD(130/199): loss=0.43116390462429266\n",
      "Logistic regression GD(140/199): loss=0.4219815360447122\n",
      "Logistic regression GD(150/199): loss=0.4133105418863559\n",
      "Logistic regression GD(160/199): loss=0.4051028621221265\n",
      "Logistic regression GD(170/199): loss=0.3973167667056954\n",
      "Logistic regression GD(180/199): loss=0.38991567357145673\n",
      "Logistic regression GD(190/199): loss=0.3828672780145766\n"
     ]
    },
    {
     "data": {
      "text/plain": [
       "[<matplotlib.lines.Line2D at 0x117dd4b38>]"
      ]
     },
     "execution_count": 90,
     "metadata": {},
     "output_type": "execute_result"
    },
    {
     "data": {
      "image/png": "[encoded data removed]",
      "text/plain": [
       "<Figure size 432x288 with 1 Axes>"
      ]
     },
     "metadata": {
      "needs_background": "light"
     },
     "output_type": "display_data"
    }
   ],
   "source": [
    "initial_w = np.zeros(tX_std.shape[1])\n",
    "max_iters = 200\n",
    "lr = 0.01\n",
    "w_lr, losses_lr, final_loss_lr = train(tX_std, y, initial_w, lr, max_iters)\n",
    "plt.plot(losses_lr)"
   ]
  },
  {
   "cell_type": "markdown",
   "metadata": {},
   "source": [
    "### Regularized logistic regression\n",
    "Regularized logistic regression using gradient descent or SGD. $ w^* = min_w \\sum_{i=1}^n log(1+exp(-y_i w^T x_i)) +\\lambda ‖w‖^2$"
   ]
  },
  {
   "cell_type": "code",
   "execution_count": 91,
   "metadata": {},
   "outputs": [
    {
     "name": "stdout",
     "output_type": "stream",
     "text": [
      "Logistic regression starting with: \n",
      "Lr:0.01, max_iters:200,\n",
      " initial_w:[0. 0. 0. 0. 0. 0. 0. 0. 0. 0. 0. 0. 0. 0. 0. 0. 0. 0. 0. 0. 0. 0. 0. 0.\n",
      " 0. 0. 0. 0. 0. 0.], lambda:0.2\n",
      "------------------\n",
      "START TRAINING:\n",
      "Logistic regression GD(0/199): loss=0.693147180559945\n",
      "Logistic regression GD(10/199): loss=0.6411288147587162\n",
      "Logistic regression GD(20/199): loss=0.6042585381322898\n",
      "Logistic regression GD(30/199): loss=0.5760732328971868\n",
      "Logistic regression GD(40/199): loss=0.5531512078305214\n",
      "Logistic regression GD(50/199): loss=0.5336461477497924\n",
      "Logistic regression GD(60/199): loss=0.516519210692372\n",
      "Logistic regression GD(70/199): loss=0.5011554895135413\n",
      "Logistic regression GD(80/199): loss=0.48717052502488756\n",
      "Logistic regression GD(90/199): loss=0.47430998351762177\n",
      "Logistic regression GD(100/199): loss=0.4623960040377607\n",
      "Logistic regression GD(110/199): loss=0.45129760926754137\n",
      "Logistic regression GD(120/199): loss=0.4409138827444421\n",
      "Logistic regression GD(130/199): loss=0.4311641014610668\n",
      "Logistic regression GD(140/199): loss=0.42198175376495717\n",
      "Logistic regression GD(150/199): loss=0.4133107808678508\n",
      "Logistic regression GD(160/199): loss=0.40510312269822707\n",
      "Logistic regression GD(170/199): loss=0.3973170491712486\n",
      "Logistic regression GD(180/199): loss=0.38991597818803225\n",
      "Logistic regression GD(190/199): loss=0.3828676050150433\n"
     ]
    },
    {
     "data": {
      "text/plain": [
       "[<matplotlib.lines.Line2D at 0x117d67a20>]"
      ]
     },
     "execution_count": 91,
     "metadata": {},
     "output_type": "execute_result"
    },
    {
     "data": {
      "image/png": "[encoded data removed]",
      "text/plain": [
       "<Figure size 432x288 with 1 Axes>"
      ]
     },
     "metadata": {
      "needs_background": "light"
     },
     "output_type": "display_data"
    }
   ],
   "source": [
    "initial_w = np.zeros(tX_std.shape[1])\n",
    "max_iters = 200\n",
    "lr = 0.01\n",
    "lambda_ = 0.2\n",
    "w_lr_reg, losses_lr_reg, final_loss_lr_reg = train(tX_std, y, initial_w, lr, max_iters,\n",
    "                                       lambda_)\n",
    "plt.plot(losses_lr_reg)"
   ]
  },
  {
   "cell_type": "markdown",
   "metadata": {},
   "source": [
    "## k-fold cross validation and hyperparameter tuning: "
   ]
  },
  {
   "cell_type": "code",
   "execution_count": 87,
   "metadata": {
    "run_control": {
     "marked": true
    }
   },
   "outputs": [
    {
     "data": {
      "text/plain": [
       "((199816, 30), (50184, 30))"
      ]
     },
     "execution_count": 87,
     "metadata": {},
     "output_type": "execute_result"
    }
   ],
   "source": [
    "import pandas as pd\n",
    "K = 5\n",
    "\n",
    "df = pd.DataFrame(tX_std)\n",
    "msk = np.random.rand(len(df)) < 0.8\n",
    "train = df[msk]\n",
    "test = df[~msk]\n",
    "\n",
    "train.shape, test.shape"
   ]
  },
  {
   "cell_type": "markdown",
   "metadata": {},
   "source": [
    "## Generate predictions and save ouput in csv format for submission:"
   ]
  },
  {
   "cell_type": "code",
   "execution_count": 268,
   "metadata": {},
   "outputs": [
    {
     "name": "stdout",
     "output_type": "stream",
     "text": [
      "test data shape: X (568238, 30)\n"
     ]
    }
   ],
   "source": [
    "DATA_TEST_PATH = '../data/test.csv' # TODO: download test data and supply path here \n",
    "_, tX_test, ids_test = load_csv_data(DATA_TEST_PATH)\n",
    "print(f'test data shape: X {tX_test.shape}')"
   ]
  },
  {
   "cell_type": "code",
   "execution_count": 318,
   "metadata": {},
   "outputs": [],
   "source": [
    "# standard par rapport à moyenne et std de train:\n",
    "mean_train = np.mean(tX, axis=0)\n",
    "std_train = np.std(tX - mean_train, axis=0)\n",
    "test_data = standardize_with_meanstd(tX_test, mean_train, std_train)"
   ]
  },
  {
   "cell_type": "code",
   "execution_count": 326,
   "metadata": {},
   "outputs": [],
   "source": [
    "weights_from_methods = {\n",
    "    'LS_GD': w_ls_GD,\n",
    "    'LS_SGD': w_ls_GD,\n",
    "    'LS': w_ls,\n",
    "    'RR': w_rr,\n",
    "    'LR': w_lr,\n",
    "    'LR_REG': w_lr_reg\n",
    "}\n",
    "\n",
    "# Choose method: \n",
    "METHOD = 'LR_REG'\n",
    "test_prediction = predict_labels(weights_from_methods[METHOD], test_data)\n",
    "\n",
    "OUTPUT_PATH = '../data/results/y_pred_' + METHOD + '.csv'\n",
    "ids_test = pd.read_csv('../data/sample-submission.csv')['Id']\n",
    "create_csv_submission(ids_test, y_pred__ls_GD, OUTPUT_PATH)"
   ]
  },
  {
   "cell_type": "code",
   "execution_count": null,
   "metadata": {},
   "outputs": [],
   "source": []
  }
 ],
 "metadata": {
  "kernelspec": {
   "display_name": "ML",
   "language": "python",
   "name": "ml"
  },
  "language_info": {
   "codemirror_mode": {
    "name": "ipython",
    "version": 3
   },
   "file_extension": ".py",
   "mimetype": "text/x-python",
   "name": "python",
   "nbconvert_exporter": "python",
   "pygments_lexer": "ipython3",
   "version": "3.7.3"
  },
  "toc": {
   "base_numbering": 1,
   "nav_menu": {},
   "number_sections": true,
   "sideBar": true,
   "skip_h1_title": false,
   "title_cell": "Table of Contents",
   "title_sidebar": "Contents",
   "toc_cell": false,
   "toc_position": {},
   "toc_section_display": true,
   "toc_window_display": false
  }
 },
 "nbformat": 4,
 "nbformat_minor": 4
}
