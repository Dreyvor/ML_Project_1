{
 "cells": [
  {
   "cell_type": "markdown",
   "metadata": {},
   "source": [
    "## Setting up: "
   ]
  },
  {
   "cell_type": "code",
   "execution_count": 1,
   "metadata": {},
   "outputs": [],
   "source": [
    "# Useful starting lines\n",
    "%matplotlib inline\n",
    "import numpy as np\n",
    "import matplotlib.pyplot as plt\n",
    "\n",
    "import datetime\n",
    "\n",
    "%load_ext autoreload\n",
    "%autoreload 2\n",
    "\n",
    "#additional functions: \n",
    "from add_functions.proj1_helpers import *\n",
    "from add_functions.ml_methods_labs import *"
   ]
  },
  {
   "cell_type": "markdown",
   "metadata": {},
   "source": [
    "### Load Data: \n",
    "\n",
    "- train.csv - Training set of 250000 events. The file starts with the ID column, then the label column (the y you have to predict), and finally 30 feature columns.\n",
    "- test.csv - The test set of around 568238 events - Everything as above, except the label is missing.\n",
    "- sample-submission.csv - a sample submission file in the correct format. The sample submission always predicts -1, that is ‘background’.\n",
    "\n",
    "Note: \n",
    "- all variables are floating point, except PRI_jet_num which is integer\n",
    "- variables prefixed with PRI (for PRImitives) are “raw” quantities about the bunch collision as measured by the detector.\n",
    "- variables prefixed with DER (for DERived) are quantities computed from the primitive features, which were selected by the physicists of ATLAS.\n",
    "- it can happen that for some entries some variables are meaningless or cannot be computed; in this case, their value is −999.0, which is outside the normal range of all variables."
   ]
  },
  {
   "cell_type": "code",
   "execution_count": 2,
   "metadata": {},
   "outputs": [],
   "source": [
    "DATA_TRAIN_PATH = '../data/train.csv' # TODO: download train data and supply path here \n",
    "y, tX, ids = load_csv_data(DATA_TRAIN_PATH)"
   ]
  },
  {
   "cell_type": "code",
   "execution_count": 3,
   "metadata": {},
   "outputs": [
    {
     "name": "stdout",
     "output_type": "stream",
     "text": [
      "training data shape: y (250000,), X (250000, 30)\n"
     ]
    }
   ],
   "source": [
    "print(f'training data shape: y {y.shape}, X {tX.shape}')"
   ]
  },
  {
   "cell_type": "code",
   "execution_count": 4,
   "metadata": {},
   "outputs": [
    {
     "data": {
      "text/plain": [
       "(array([ 1., -1., -1., -1., -1., -1.,  1.,  1., -1.,  1.]),\n",
       " array([[ 138.47 ,   51.655],\n",
       "        [ 160.937,   68.768],\n",
       "        [-999.   ,  162.172],\n",
       "        [ 143.905,   81.417],\n",
       "        [ 175.864,   16.915],\n",
       "        [  89.744,   13.55 ],\n",
       "        [ 148.754,   28.862],\n",
       "        [ 154.916,   10.418],\n",
       "        [ 105.594,   50.559],\n",
       "        [ 128.053,   88.941]]))"
      ]
     },
     "execution_count": 4,
     "metadata": {},
     "output_type": "execute_result"
    }
   ],
   "source": [
    "y[:10], tX[:10,:2]"
   ]
  },
  {
   "cell_type": "code",
   "execution_count": 5,
   "metadata": {},
   "outputs": [
    {
     "data": {
      "text/plain": [
       "array([[ 0.46141372,  0.06833197,  0.40768027, ...,  1.5668    ,\n",
       "         1.55858439,  0.4125105 ],\n",
       "       [ 0.51670419,  0.55250482,  0.54013641, ..., -0.63936657,\n",
       "        -0.63936694, -0.27381996],\n",
       "       [-2.33785898,  3.19515553,  1.09655998, ..., -0.63936657,\n",
       "        -0.63936694, -0.29396985],\n",
       "       ...,\n",
       "       [ 0.38016991,  0.31931645, -0.13086367, ..., -0.63936657,\n",
       "        -0.63936694, -0.31701723],\n",
       "       [ 0.35431502, -0.84532397, -0.30297338, ..., -0.63936657,\n",
       "        -0.63936694, -0.74543941],\n",
       "       [-2.33785898,  0.66533608, -0.25352276, ..., -0.63936657,\n",
       "        -0.63936694, -0.74543941]])"
      ]
     },
     "execution_count": 5,
     "metadata": {},
     "output_type": "execute_result"
    }
   ],
   "source": [
    "### standardize data:  \n",
    "tX_std = standardize(tX)\n",
    "\n",
    "#check if standardization method correct: \n",
    "from sklearn.preprocessing import StandardScaler\n",
    "scaler = StandardScaler()\n",
    "scaler.fit(tX)\n",
    "#print(scaler.transform(tX))\n",
    "\n",
    "tX_std"
   ]
  },
  {
   "cell_type": "code",
   "execution_count": 6,
   "metadata": {
    "scrolled": true
   },
   "outputs": [
    {
     "data": {
      "text/plain": [
       "<matplotlib.collections.PathCollection at 0x11e126fd0>"
      ]
     },
     "execution_count": 6,
     "metadata": {},
     "output_type": "execute_result"
    },
    {
     "data": {
      "image/png": "[encoded data removed]",
      "text/plain": [
       "<Figure size 432x288 with 1 Axes>"
      ]
     },
     "metadata": {
      "needs_background": "light"
     },
     "output_type": "display_data"
    }
   ],
   "source": [
    "#Plot a few samples of first two coordinates:\n",
    "NUM_POINTS = 40\n",
    "plt.scatter(tX[:NUM_POINTS,0], tX[:NUM_POINTS,1], c = y[:NUM_POINTS])"
   ]
  },
  {
   "cell_type": "code",
   "execution_count": null,
   "metadata": {},
   "outputs": [],
   "source": []
  },
  {
   "cell_type": "code",
   "execution_count": 7,
   "metadata": {},
   "outputs": [],
   "source": [
    "import seaborn as sns\n",
    "import pandas as pd\n",
    "\n",
    "#sns.pairplot(pd.DataFrame(tX_std))"
   ]
  },
  {
   "cell_type": "markdown",
   "metadata": {},
   "source": [
    "## Implement ML methods:\n",
    "\n",
    "You should take care of the following:\n",
    "- Return type: Note that all functions should return: (w, loss), which is the last weight vector of the method, and the corresponding loss value (cost function). Note that while in previous labs you might have kept track of all encountered w for iterative methods, here we only want the last one.\n",
    "- File names: Please provide all function implementations in a single python file, called implementations.py.\n",
    "- All code should be easily readable and commented.\n",
    "- Note that we might automatically call your provided methods and evaluate for correct implementation"
   ]
  },
  {
   "cell_type": "markdown",
   "metadata": {},
   "source": [
    "### Least Squares GD: \n",
    "Linear regression using gradient descent"
   ]
  },
  {
   "cell_type": "code",
   "execution_count": 240,
   "metadata": {},
   "outputs": [],
   "source": [
    "def gradient_MSE(y, tx, w):\n",
    "    return (-1 / len(y)) * tx.T @ (y - tx @ w)"
   ]
  },
  {
   "cell_type": "code",
   "execution_count": 241,
   "metadata": {},
   "outputs": [],
   "source": [
    "def MSE_loss(y, tx, w):\n",
    "    \"\"\"Calculate the loss.\n",
    "    You can calculate the loss using mse or mae.\n",
    "    \"\"\"\n",
    "    MSE = np.square(np.subtract(y,tx@w)).mean()\n",
    "    return MSE"
   ]
  },
  {
   "cell_type": "code",
   "execution_count": 242,
   "metadata": {},
   "outputs": [],
   "source": [
    "def least_squares_GD(y, tx, initial_w, max_iters, gamma):\n",
    "    losses = []\n",
    "    w = initial_w\n",
    "    for n_iter in range(max_iters):\n",
    "        grad = gradient_MSE(y, tx, w)\n",
    "        loss = MSE_loss(y, tx, w)\n",
    "        w -= gamma * grad\n",
    "        # store w and loss:\n",
    "        losses.append(loss)\n",
    "        if n_iter%10 == 0:\n",
    "            print(\"Least squares gradient Descent({bi}/{ti}): loss={l}\".format(\n",
    "                bi=n_iter, ti=max_iters - 1, l=loss))\n",
    "    return w, losses, losses[-1]"
   ]
  },
  {
   "cell_type": "code",
   "execution_count": 262,
   "metadata": {},
   "outputs": [
    {
     "name": "stdout",
     "output_type": "stream",
     "text": [
      "Least squares gradient Descent(0/99): loss=1.0\n",
      "Least squares gradient Descent(10/99): loss=0.9304690034359392\n",
      "Least squares gradient Descent(20/99): loss=0.9005640052353776\n",
      "Least squares gradient Descent(30/99): loss=0.8812402327377723\n",
      "Least squares gradient Descent(40/99): loss=0.8677446947443402\n",
      "Least squares gradient Descent(50/99): loss=0.8580286184137202\n",
      "Least squares gradient Descent(60/99): loss=0.8508369618440981\n",
      "Least squares gradient Descent(70/99): loss=0.8453557643729467\n",
      "Least squares gradient Descent(80/99): loss=0.8410503624035713\n",
      "Least squares gradient Descent(90/99): loss=0.8375665444536083\n"
     ]
    },
    {
     "data": {
      "text/plain": [
       "[<matplotlib.lines.Line2D at 0x1219816a0>]"
      ]
     },
     "execution_count": 262,
     "metadata": {},
     "output_type": "execute_result"
    },
    {
     "data": {
      "image/png": "[encoded data removed]",
      "text/plain": [
       "<Figure size 432x288 with 1 Axes>"
      ]
     },
     "metadata": {
      "needs_background": "light"
     },
     "output_type": "display_data"
    }
   ],
   "source": [
    "initial_w = np.zeros(tX_std.shape[1])\n",
    "max_iters = 100\n",
    "gamma = 0.01\n",
    "w_ls_GD, losses_ls_GD, final_loss_ls_GD = least_squares_GD(\n",
    "    y, tX_std, initial_w, max_iters, gamma)\n",
    "plt.plot(losses_ls_GD)"
   ]
  },
  {
   "cell_type": "code",
   "execution_count": 244,
   "metadata": {},
   "outputs": [
    {
     "data": {
      "text/plain": [
       "(0.7977829151289451, 0.7977829151289451)"
      ]
     },
     "execution_count": 244,
     "metadata": {},
     "output_type": "execute_result"
    }
   ],
   "source": [
    "from sklearn.metrics import mean_squared_error\n",
    "#verify that MSE gives same error as MSE from sklearn:\n",
    "mean_squared_error(y, tX_std @ w_ls_GD), MSE_loss(y, tX_std, w_ls_GD)"
   ]
  },
  {
   "cell_type": "markdown",
   "metadata": {},
   "source": [
    "### Least Squares SGD:\n",
    "Linear regression using stochastic gradient descent"
   ]
  },
  {
   "cell_type": "code",
   "execution_count": 246,
   "metadata": {
    "run_control": {
     "marked": true
    }
   },
   "outputs": [],
   "source": [
    "def least_squares_SGD(y, tx, initial_w, max_iters, gamma):\n",
    "    batch_size = 1\n",
    "    \"\"\"Stochastic gradient descent algorithm.\"\"\"\n",
    "    losses = []\n",
    "    w = initial_w\n",
    "    for n_iter in range(max_iters):\n",
    "        for minibatch_y, minibatch_tx in batch_iter(y, tx, batch_size):\n",
    "            grad = gradient_MSE(minibatch_y, minibatch_tx, w)\n",
    "            loss = MSE_loss(minibatch_y, minibatch_tx, w)\n",
    "            w -= gamma * grad\n",
    "            # store w and loss\n",
    "            losses.append(loss)\n",
    "            if n_iter%10==0: \n",
    "                print(\"Least squares gradient Descent({bi}/{ti}): loss={l}\".format(\n",
    "                    bi=n_iter, ti=max_iters - 1, l=loss))\n",
    "    return w, losses, losses[-1]"
   ]
  },
  {
   "cell_type": "code",
   "execution_count": 261,
   "metadata": {
    "scrolled": false
   },
   "outputs": [
    {
     "name": "stdout",
     "output_type": "stream",
     "text": [
      "Least squares gradient Descent(0/99): loss=1.0\n",
      "Least squares gradient Descent(10/99): loss=0.9062785633803456\n",
      "Least squares gradient Descent(20/99): loss=0.8569485739370216\n",
      "Least squares gradient Descent(30/99): loss=0.6492113475811297\n",
      "Least squares gradient Descent(40/99): loss=1.4652973157602671\n",
      "Least squares gradient Descent(50/99): loss=1.413310700272229\n",
      "Least squares gradient Descent(60/99): loss=0.6933734468226033\n",
      "Least squares gradient Descent(70/99): loss=0.6422667444494594\n",
      "Least squares gradient Descent(80/99): loss=0.7793782869409659\n",
      "Least squares gradient Descent(90/99): loss=1.0191841810099158\n"
     ]
    },
    {
     "data": {
      "text/plain": [
       "[<matplotlib.lines.Line2D at 0x121914c50>]"
      ]
     },
     "execution_count": 261,
     "metadata": {},
     "output_type": "execute_result"
    },
    {
     "data": {
      "image/png": "[encoded data removed]",
      "text/plain": [
       "<Figure size 432x288 with 1 Axes>"
      ]
     },
     "metadata": {
      "needs_background": "light"
     },
     "output_type": "display_data"
    }
   ],
   "source": [
    "initial_w = np.zeros(tX_std.shape[1])\n",
    "max_iters = 100\n",
    "gamma = 0.001\n",
    "w_ls_SGD, losses_ls_SGD, final_loss_ls_SGD = least_squares_SGD(y, tX_std, initial_w, max_iters,\n",
    "                                         gamma)\n",
    "plt.plot(losses_ls_SGD)"
   ]
  },
  {
   "cell_type": "markdown",
   "metadata": {},
   "source": [
    "### Least Squares:\n",
    "Least squares regression using normal equations. Solve $A^TAx = A^Ty$, Ax = b → x = np.linalg.solve(A, b)"
   ]
  },
  {
   "cell_type": "code",
   "execution_count": 248,
   "metadata": {},
   "outputs": [],
   "source": [
    "def least_squares(y, tX):\n",
    "    w = np.linalg.solve(tX.T @ tX, tX.T @ y)\n",
    "    loss = MSE_loss(y, tX, w)\n",
    "    return w, loss"
   ]
  },
  {
   "cell_type": "code",
   "execution_count": 249,
   "metadata": {},
   "outputs": [
    {
     "data": {
      "text/plain": [
       "(array([ 2.93788277e-02, -2.52531474e-01, -2.54791125e-01, -3.03696826e-02,\n",
       "        -1.40144781e+00,  2.95701641e-01, -1.07889474e+01,  2.67880862e-01,\n",
       "        -2.44934951e-03, -3.28854694e+02, -1.82647888e-01,  1.14039627e-01,\n",
       "         2.05045969e+01,  6.38905957e+01, -3.18961844e-04, -1.80884303e-03,\n",
       "         6.29996662e+01, -4.48641741e-04,  1.54379312e-03,  1.21462700e-01,\n",
       "         3.95268515e-04, -6.33223483e-02, -2.06747091e-01, -1.16655759e-01,\n",
       "         9.86256834e-02,  1.67907660e-01, -3.35146276e-02, -2.98358672e+00,\n",
       "        -5.36388116e+00,  2.78501929e+02]),\n",
       " 0.7779046298744752)"
      ]
     },
     "execution_count": 249,
     "metadata": {},
     "output_type": "execute_result"
    }
   ],
   "source": [
    "w_ls, loss_ls = least_squares(y, tX_std)\n",
    "w_ls, loss_ls"
   ]
  },
  {
   "cell_type": "code",
   "execution_count": 250,
   "metadata": {},
   "outputs": [],
   "source": [
    "y_pred_ls = predict_labels(w_ls, tX_std)"
   ]
  },
  {
   "cell_type": "markdown",
   "metadata": {},
   "source": [
    "### Ridge Regression: \n",
    "Ridge regression using normal equations. $w^* = (X^T X+\\lambda I)^{-1}X^Ty$"
   ]
  },
  {
   "cell_type": "code",
   "execution_count": 251,
   "metadata": {},
   "outputs": [],
   "source": [
    "lambda_ = 0.02\n",
    "def ridge_regression(y, tX, lambda_):\n",
    "    w = np.linalg.solve(tX.T@tX+lambda_*np.eye(tX.shape[1]),tX.T@y)\n",
    "    loss = MSE_loss(y, tX, w)\n",
    "    return w, loss"
   ]
  },
  {
   "cell_type": "code",
   "execution_count": 252,
   "metadata": {},
   "outputs": [
    {
     "data": {
      "text/plain": [
       "(array([ 2.93666781e-02, -2.52530497e-01, -2.54823428e-01, -3.02099334e-02,\n",
       "         8.53966995e-01,  2.92033690e-01, -1.01968078e+01,  2.67887607e-01,\n",
       "        -2.52731682e-03, -3.50032924e-02, -1.82661485e-01,  1.14032110e-01,\n",
       "         1.70868417e+01,  1.98775744e-01, -3.51306513e-04, -1.76418914e-03,\n",
       "         2.94473957e-01, -4.74274957e-04,  1.59561206e-03,  1.21483014e-01,\n",
       "         4.42749327e-04, -6.32331358e-02, -2.06402058e-01, -1.13409100e-01,\n",
       "         1.05354901e-01,  1.57890918e-01, -1.44627398e-02, -2.74806187e+00,\n",
       "        -5.04492362e+00, -4.45555753e-02]),\n",
       " 0.777912229090242)"
      ]
     },
     "execution_count": 252,
     "metadata": {},
     "output_type": "execute_result"
    }
   ],
   "source": [
    "w_rr, loss_rr = ridge_regression(y, tX_std,lambda_)\n",
    "w_rr, loss_rr"
   ]
  },
  {
   "cell_type": "markdown",
   "metadata": {},
   "source": [
    "### Logistic regression: \n",
    "Logistic regression using gradient descent or SGD. \n",
    "https://github.com/SSaishruthi/LogisticRegression_Vectorized_Implementation/blob/master/Logistic_Regression.ipynb\n",
    "\n",
    "https://machinelearningmedium.com/2017/09/15/regularized-logistic-regression/\n",
    "\n",
    "- cost : $J(w) = -1/m (-y^T log (h)-(1-y)^T log (1-h)) + \\lambda/(2m)||w||^2 ; h = sigmoid(Xw)$"
   ]
  },
  {
   "cell_type": "code",
   "execution_count": 253,
   "metadata": {},
   "outputs": [],
   "source": [
    "def sigmoid_activation(z):\n",
    "    return 1.0 / (1 + np.exp(-z))"
   ]
  },
  {
   "cell_type": "code",
   "execution_count": 254,
   "metadata": {},
   "outputs": [],
   "source": [
    "def cost_logistic(tX, y, w, lambda_):\n",
    "    # Returns 1D array of probabilities that the class label == 1\n",
    "    predictions = sigmoid_activation(tX@w)\n",
    "    \n",
    "    m = y.shape[0]\n",
    "    #Take the sum of both costs: error when label=1 + error when label=0\n",
    "    cost = -y * np.log(predictions) - (1 - y) * np.log(1 - predictions)\n",
    "    #Take the average cost:\n",
    "    cost = cost.sum() / m\n",
    "    \n",
    "    # regularizer:\n",
    "    if lambda_:\n",
    "        cost += (lambda_ / (2 * m)) * w.T @ w\n",
    "    return cost"
   ]
  },
  {
   "cell_type": "code",
   "execution_count": 255,
   "metadata": {},
   "outputs": [],
   "source": [
    "def update_weights_logistic(tX, y, w, lr, lambda_):\n",
    "    m = tX.shape[0]\n",
    "    #Get Predictions\n",
    "    predictions = sigmoid_activation(np.dot(tX, w))\n",
    "\n",
    "    # slope of the cost function across all observations\n",
    "    gradient = 1/m * tX.T@(predictions - y)\n",
    "\n",
    "    # if regularization\n",
    "    if lambda_:\n",
    "        gradient += 1/m * lambda_ * w\n",
    "\n",
    "    # Subtract from our weights to minimize cost\n",
    "    w -= lr * gradient\n",
    "    return w"
   ]
  },
  {
   "cell_type": "code",
   "execution_count": 256,
   "metadata": {},
   "outputs": [],
   "source": [
    "def train(tX, y, initial_w, lr, max_iters, lambda_=None):\n",
    "    cost_history = []\n",
    "    w = initial_w\n",
    "\n",
    "    for i in range(max_iters):\n",
    "        #Calculate error for auditing purposes\n",
    "        cost = cost_logistic(tX, y, w, lambda_)\n",
    "        cost_history.append(cost)\n",
    "\n",
    "        w = update_weights_logistic(tX, y, w, lr, lambda_)\n",
    "\n",
    "        # Log Progress:\n",
    "        if i%10==0: \n",
    "            print(\n",
    "                \"Logistic regression gradient Descent({bi}/{ti}): loss={l}\"\n",
    "                .format(bi=i, ti=max_iters - 1, l=cost))\n",
    "\n",
    "    return w, cost_history, cost_history[-1]"
   ]
  },
  {
   "cell_type": "code",
   "execution_count": 267,
   "metadata": {},
   "outputs": [
    {
     "name": "stdout",
     "output_type": "stream",
     "text": [
      "Logistic regression gradient Descent(0/299): loss=0.693147180559945\n",
      "Logistic regression gradient Descent(10/299): loss=0.6411288109981919\n",
      "Logistic regression gradient Descent(20/299): loss=0.6042585256615078\n",
      "Logistic regression gradient Descent(30/299): loss=0.5760732091313302\n",
      "Logistic regression gradient Descent(40/299): loss=0.5531511710861186\n",
      "Logistic regression gradient Descent(50/299): loss=0.5336460967176516\n",
      "Logistic regression gradient Descent(60/299): loss=0.5165191442532248\n",
      "Logistic regression gradient Descent(70/299): loss=0.5011554066746111\n",
      "Logistic regression gradient Descent(80/299): loss=0.48717042489755447\n",
      "Logistic regression gradient Descent(90/299): loss=0.4743098653076913\n",
      "Logistic regression gradient Descent(100/299): loss=0.46239586703860547\n",
      "Logistic regression gradient Descent(110/299): loss=0.45129745285322875\n",
      "Logistic regression gradient Descent(120/299): loss=0.44091370636236116\n",
      "Logistic regression gradient Descent(130/299): loss=0.4311639046242928\n",
      "Logistic regression gradient Descent(140/299): loss=0.42198153604471245\n",
      "Logistic regression gradient Descent(150/299): loss=0.4133105418863562\n",
      "Logistic regression gradient Descent(160/299): loss=0.4051028621221266\n",
      "Logistic regression gradient Descent(170/299): loss=0.3973167667056955\n",
      "Logistic regression gradient Descent(180/299): loss=0.3899156735714569\n",
      "Logistic regression gradient Descent(190/299): loss=0.3828672780145767\n",
      "Logistic regression gradient Descent(200/299): loss=0.3761428883158079\n",
      "Logistic regression gradient Descent(210/299): loss=0.3697169030820723\n",
      "Logistic regression gradient Descent(220/299): loss=0.3635663896372335\n",
      "Logistic regression gradient Descent(230/299): loss=0.3576707370653111\n",
      "Logistic regression gradient Descent(240/299): loss=0.3520113662052467\n",
      "Logistic regression gradient Descent(250/299): loss=0.3465714843157285\n",
      "Logistic regression gradient Descent(260/299): loss=0.3413358755920705\n",
      "Logistic regression gradient Descent(270/299): loss=0.33629072099440005\n",
      "Logistic regression gradient Descent(280/299): loss=0.33142344239076976\n",
      "Logistic regression gradient Descent(290/299): loss=0.32672256710044734\n"
     ]
    },
    {
     "data": {
      "text/plain": [
       "[<matplotlib.lines.Line2D at 0x121b64f98>]"
      ]
     },
     "execution_count": 267,
     "metadata": {},
     "output_type": "execute_result"
    },
    {
     "data": {
      "image/png": "[encoded data removed]",
      "text/plain": [
       "<Figure size 432x288 with 1 Axes>"
      ]
     },
     "metadata": {
      "needs_background": "light"
     },
     "output_type": "display_data"
    }
   ],
   "source": [
    "initial_w = np.zeros(tX_std.shape[1])\n",
    "max_iters = 300\n",
    "lr = 0.01\n",
    "w_lr, losses_lr, final_loss_lr = train(tX, y, initial_w, lr, max_iters)\n",
    "plt.plot(losses_lr)"
   ]
  },
  {
   "cell_type": "markdown",
   "metadata": {},
   "source": [
    "### Regularized logistic regression\n",
    "Regularized logistic regression using gradient descent or SGD. $ w^* = min_w \\sum_{i=1}^n log(1+exp(-y_i w^T x_i)) +\\lambda ‖w‖^2$"
   ]
  },
  {
   "cell_type": "code",
   "execution_count": 293,
   "metadata": {},
   "outputs": [
    {
     "name": "stdout",
     "output_type": "stream",
     "text": [
      "Logistic regression gradient Descent(0/99): loss=0.693147180559945\n",
      "Logistic regression gradient Descent(10/99): loss=0.6561534327458004\n",
      "Logistic regression gradient Descent(20/99): loss=0.6447889930900739\n",
      "Logistic regression gradient Descent(30/99): loss=0.6410220265654998\n",
      "Logistic regression gradient Descent(40/99): loss=0.6396937076525177\n",
      "Logistic regression gradient Descent(50/99): loss=0.6392033532649114\n",
      "Logistic regression gradient Descent(60/99): loss=0.6390164731526525\n",
      "Logistic regression gradient Descent(70/99): loss=0.6389437189307859\n",
      "Logistic regression gradient Descent(80/99): loss=0.6389149985255737\n",
      "Logistic regression gradient Descent(90/99): loss=0.638903557667035\n"
     ]
    },
    {
     "data": {
      "text/plain": [
       "[<matplotlib.lines.Line2D at 0x17a7390b8>]"
      ]
     },
     "execution_count": 293,
     "metadata": {},
     "output_type": "execute_result"
    },
    {
     "data": {
      "image/png": "[encoded data removed]",
      "text/plain": [
       "<Figure size 432x288 with 1 Axes>"
      ]
     },
     "metadata": {
      "needs_background": "light"
     },
     "output_type": "display_data"
    }
   ],
   "source": [
    "initial_w = np.zeros(tX_std.shape[1])\n",
    "max_iters = 100\n",
    "lr = 0.01\n",
    "lambda_ = 1000000\n",
    "w_lr_reg, losses_lr_reg, final_loss_lr_reg = train(tX, y, initial_w, lr, max_iters,\n",
    "                                       lambda_)\n",
    "plt.plot(losses_lr_reg)"
   ]
  },
  {
   "cell_type": "markdown",
   "metadata": {},
   "source": [
    "## Generate predictions and save ouput in csv format for submission:"
   ]
  },
  {
   "cell_type": "code",
   "execution_count": 268,
   "metadata": {},
   "outputs": [
    {
     "name": "stdout",
     "output_type": "stream",
     "text": [
      "test data shape: X (568238, 30)\n"
     ]
    }
   ],
   "source": [
    "DATA_TEST_PATH = '../data/test.csv' # TODO: download test data and supply path here \n",
    "_, tX_test, ids_test = load_csv_data(DATA_TEST_PATH)\n",
    "print(f'test data shape: X {tX_test.shape}')"
   ]
  },
  {
   "cell_type": "code",
   "execution_count": 318,
   "metadata": {},
   "outputs": [],
   "source": [
    "# standard par rapport à moyenne et std de train:\n",
    "mean_train = np.mean(tX, axis=0)\n",
    "std_train = np.std(tX - mean_train, axis=0)\n",
    "test_data = standardize_with_meanstd(tX_test, mean_train, std_train)"
   ]
  },
  {
   "cell_type": "code",
   "execution_count": 326,
   "metadata": {},
   "outputs": [],
   "source": [
    "weights_from_methods = {\n",
    "    'LS_GD': w_ls_GD,\n",
    "    'LS_SGD': w_ls_GD,\n",
    "    'LS': w_ls,\n",
    "    'RR': w_rr,\n",
    "    'LR': w_lr,\n",
    "    'LR_REG': w_lr_reg\n",
    "}\n",
    "\n",
    "# Choose method: \n",
    "METHOD = 'LR_REG'\n",
    "test_prediction = predict_labels(weights_from_methods[METHOD], test_data)\n",
    "\n",
    "OUTPUT_PATH = '../data/results/y_pred_' + METHOD + '.csv'\n",
    "ids_test = pd.read_csv('../data/sample-submission.csv')['Id']\n",
    "create_csv_submission(ids_test, y_pred__ls_GD, OUTPUT_PATH)"
   ]
  },
  {
   "cell_type": "code",
   "execution_count": null,
   "metadata": {},
   "outputs": [],
   "source": []
  }
 ],
 "metadata": {
  "kernelspec": {
   "display_name": "ML",
   "language": "python",
   "name": "ml"
  },
  "language_info": {
   "codemirror_mode": {
    "name": "ipython",
    "version": 3
   },
   "file_extension": ".py",
   "mimetype": "text/x-python",
   "name": "python",
   "nbconvert_exporter": "python",
   "pygments_lexer": "ipython3",
   "version": "3.7.3"
  },
  "toc": {
   "base_numbering": 1,
   "nav_menu": {},
   "number_sections": true,
   "sideBar": true,
   "skip_h1_title": false,
   "title_cell": "Table of Contents",
   "title_sidebar": "Contents",
   "toc_cell": false,
   "toc_position": {},
   "toc_section_display": true,
   "toc_window_display": false
  }
 },
 "nbformat": 4,
 "nbformat_minor": 4
}
