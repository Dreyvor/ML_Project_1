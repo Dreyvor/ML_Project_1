{
 "cells": [
  {
   "cell_type": "markdown",
   "metadata": {},
   "source": [
    "## Setting up: "
   ]
  },
  {
   "cell_type": "code",
   "execution_count": 3,
   "metadata": {},
   "outputs": [],
   "source": [
    "# Useful starting lines\n",
    "%matplotlib inline\n",
    "import numpy as np\n",
    "import matplotlib.pyplot as plt\n",
    "\n",
    "import datetime\n",
    "\n",
    "%load_ext autoreload\n",
    "%autoreload 2\n",
    "\n",
    "#additional functions: \n",
    "from add_functions.proj1_helpers import *\n",
    "from add_functions.ml_methods_labs import *"
   ]
  },
  {
   "cell_type": "markdown",
   "metadata": {},
   "source": [
    "### Load Data: \n",
    "\n",
    "- train.csv - Training set of 250000 events. The file starts with the ID column, then the label column (the y you have to predict), and finally 30 feature columns.\n",
    "- test.csv - The test set of around 568238 events - Everything as above, except the label is missing.\n",
    "- sample-submission.csv - a sample submission file in the correct format. The sample submission always predicts -1, that is ‘background’.\n",
    "\n",
    "Note: \n",
    "- all variables are floating point, except PRI_jet_num which is integer\n",
    "- variables prefixed with PRI (for PRImitives) are “raw” quantities about the bunch collision as measured by the detector.\n",
    "- variables prefixed with DER (for DERived) are quantities computed from the primitive features, which were selected by the physicists of ATLAS.\n",
    "- it can happen that for some entries some variables are meaningless or cannot be computed; in this case, their value is −999.0, which is outside the normal range of all variables."
   ]
  },
  {
   "cell_type": "code",
   "execution_count": 4,
   "metadata": {},
   "outputs": [],
   "source": [
    "DATA_TRAIN_PATH = '../data/train.csv' # TODO: download train data and supply path here \n",
    "y, tX, ids = load_csv_data(DATA_TRAIN_PATH)"
   ]
  },
  {
   "cell_type": "code",
   "execution_count": 5,
   "metadata": {},
   "outputs": [
    {
     "name": "stdout",
     "output_type": "stream",
     "text": [
      "training data shape: y (250000,), X (250000, 30)\n"
     ]
    }
   ],
   "source": [
    "print(f'training data shape: y {y.shape}, X {tX.shape}')"
   ]
  },
  {
   "cell_type": "code",
   "execution_count": 6,
   "metadata": {},
   "outputs": [
    {
     "data": {
      "text/plain": [
       "(array([ 1., -1., -1., -1., -1., -1.,  1.,  1., -1.,  1.]),\n",
       " array([[ 138.47 ,   51.655],\n",
       "        [ 160.937,   68.768],\n",
       "        [-999.   ,  162.172],\n",
       "        [ 143.905,   81.417],\n",
       "        [ 175.864,   16.915],\n",
       "        [  89.744,   13.55 ],\n",
       "        [ 148.754,   28.862],\n",
       "        [ 154.916,   10.418],\n",
       "        [ 105.594,   50.559],\n",
       "        [ 128.053,   88.941]]))"
      ]
     },
     "execution_count": 6,
     "metadata": {},
     "output_type": "execute_result"
    }
   ],
   "source": [
    "y[:10], tX[:10,:2]"
   ]
  },
  {
   "cell_type": "code",
   "execution_count": 7,
   "metadata": {},
   "outputs": [
    {
     "data": {
      "text/plain": [
       "array([[ 0.46141372,  0.06833197,  0.40768027, ...,  1.5668    ,\n",
       "         1.55858439,  0.4125105 ],\n",
       "       [ 0.51670419,  0.55250482,  0.54013641, ..., -0.63936657,\n",
       "        -0.63936694, -0.27381996],\n",
       "       [-2.33785898,  3.19515553,  1.09655998, ..., -0.63936657,\n",
       "        -0.63936694, -0.29396985],\n",
       "       ...,\n",
       "       [ 0.38016991,  0.31931645, -0.13086367, ..., -0.63936657,\n",
       "        -0.63936694, -0.31701723],\n",
       "       [ 0.35431502, -0.84532397, -0.30297338, ..., -0.63936657,\n",
       "        -0.63936694, -0.74543941],\n",
       "       [-2.33785898,  0.66533608, -0.25352276, ..., -0.63936657,\n",
       "        -0.63936694, -0.74543941]])"
      ]
     },
     "execution_count": 7,
     "metadata": {},
     "output_type": "execute_result"
    }
   ],
   "source": [
    "### standardize data:  \n",
    "tX_std = standardize(tX)\n",
    "\n",
    "#check if standardization method correct: \n",
    "from sklearn.preprocessing import StandardScaler\n",
    "scaler = StandardScaler()\n",
    "scaler.fit(tX)\n",
    "#print(scaler.transform(tX))\n",
    "\n",
    "tX_std"
   ]
  },
  {
   "cell_type": "code",
   "execution_count": 8,
   "metadata": {},
   "outputs": [
    {
     "data": {
      "text/plain": [
       "<matplotlib.collections.PathCollection at 0x1219e75f8>"
      ]
     },
     "execution_count": 8,
     "metadata": {},
     "output_type": "execute_result"
    },
    {
     "data": {
      "image/png": "[encoded data removed]",
      "text/plain": [
       "<Figure size 432x288 with 1 Axes>"
      ]
     },
     "metadata": {
      "needs_background": "light"
     },
     "output_type": "display_data"
    }
   ],
   "source": [
    "#Plot a few samples of first two coordinates:\n",
    "NUM_POINTS = 40\n",
    "plt.scatter(tX[:NUM_POINTS,0], tX[:NUM_POINTS,1], c = y[:NUM_POINTS])"
   ]
  },
  {
   "cell_type": "markdown",
   "metadata": {},
   "source": [
    "## Implement ML methods:\n",
    "\n",
    "You should take care of the following:\n",
    "- Return type: Note that all functions should return: (w, loss), which is the last weight vector of the method, and the corresponding loss value (cost function). Note that while in previous labs you might have kept track of all encountered w for iterative methods, here we only want the last one.\n",
    "- File names: Please provide all function implementations in a single python file, called implementations.py.\n",
    "- All code should be easily readable and commented.\n",
    "- Note that we might automatically call your provided methods and evaluate for correct implementation"
   ]
  },
  {
   "cell_type": "markdown",
   "metadata": {},
   "source": [
    "### Least Squares GD: \n",
    "Linear regression using gradient descent"
   ]
  },
  {
   "cell_type": "code",
   "execution_count": 9,
   "metadata": {},
   "outputs": [],
   "source": [
    "def gradient_MSE(y, tx, w):\n",
    "    return (-1/len(y))*tx.T@(y-tx@w)"
   ]
  },
  {
   "cell_type": "code",
   "execution_count": 10,
   "metadata": {},
   "outputs": [],
   "source": [
    "def MSE_loss(y, tx, w):\n",
    "    \"\"\"Calculate the loss.\n",
    "    You can calculate the loss using mse or mae.\n",
    "    \"\"\"\n",
    "    MSE = np.square(np.subtract(y,tx@w)).mean()\n",
    "    return MSE"
   ]
  },
  {
   "cell_type": "code",
   "execution_count": 12,
   "metadata": {},
   "outputs": [],
   "source": [
    "def least_squares_GD(y, tx, initial_w, max_iters, gamma):\n",
    "    ws = [initial_w]\n",
    "    losses = []\n",
    "    w = initial_w\n",
    "    for n_iter in range(max_iters):\n",
    "        grad = gradient_MSE(y, tx, w)\n",
    "        loss = MSE_loss(y, tx, w)\n",
    "        w -= gamma * grad\n",
    "        # store w and loss:\n",
    "        ws.append(w)\n",
    "        losses.append(loss)\n",
    "        print(\"Least squares gradient Descent({bi}/{ti}): loss={l}\".format(\n",
    "            bi=n_iter, ti=max_iters - 1, l=loss))\n",
    "    return w, losses, losses[-1]"
   ]
  },
  {
   "cell_type": "code",
   "execution_count": 13,
   "metadata": {},
   "outputs": [
    {
     "name": "stdout",
     "output_type": "stream",
     "text": [
      "Least squares gradient Descent(0/49): loss=1.0\n",
      "Least squares gradient Descent(1/49): loss=0.9264755130297607\n",
      "Least squares gradient Descent(2/49): loss=0.8962466370379263\n",
      "Least squares gradient Descent(3/49): loss=0.8771600577769225\n",
      "Least squares gradient Descent(4/49): loss=0.8642270151661157\n",
      "Least squares gradient Descent(5/49): loss=0.8551458442459038\n",
      "Least squares gradient Descent(6/49): loss=0.8485355498878915\n",
      "Least squares gradient Descent(7/49): loss=0.8435390789639571\n",
      "Least squares gradient Descent(8/49): loss=0.839618166428172\n",
      "Least squares gradient Descent(9/49): loss=0.8364307895640358\n",
      "Least squares gradient Descent(10/49): loss=0.8337566792321112\n",
      "Least squares gradient Descent(11/49): loss=0.8314517631067184\n",
      "Least squares gradient Descent(12/49): loss=0.8294201370090644\n",
      "Least squares gradient Descent(13/49): loss=0.8275967020952479\n",
      "Least squares gradient Descent(14/49): loss=0.825936323685389\n",
      "Least squares gradient Descent(15/49): loss=0.824407000052939\n",
      "Least squares gradient Descent(16/49): loss=0.822985512734569\n",
      "Least squares gradient Descent(17/49): loss=0.8216546239049243\n",
      "Least squares gradient Descent(18/49): loss=0.8204012464387306\n",
      "Least squares gradient Descent(19/49): loss=0.8192152314360008\n",
      "Least squares gradient Descent(20/49): loss=0.8180885519776158\n",
      "Least squares gradient Descent(21/49): loss=0.8170147442288442\n",
      "Least squares gradient Descent(22/49): loss=0.8159885179204107\n",
      "Least squares gradient Descent(23/49): loss=0.8150054799239733\n",
      "Least squares gradient Descent(24/49): loss=0.8140619345101033\n",
      "Least squares gradient Descent(25/49): loss=0.8131547364439042\n",
      "Least squares gradient Descent(26/49): loss=0.8122811810960382\n",
      "Least squares gradient Descent(27/49): loss=0.8114389209217358\n",
      "Least squares gradient Descent(28/49): loss=0.8106259010360852\n",
      "Least squares gradient Descent(29/49): loss=0.8098403088429811\n",
      "Least squares gradient Descent(30/49): loss=0.809080534166255\n",
      "Least squares gradient Descent(31/49): loss=0.8083451373426869\n",
      "Least squares gradient Descent(32/49): loss=0.8076328234320299\n",
      "Least squares gradient Descent(33/49): loss=0.8069424211844628\n",
      "Least squares gradient Descent(34/49): loss=0.8062728657493831\n",
      "Least squares gradient Descent(35/49): loss=0.8056231843561815\n",
      "Least squares gradient Descent(36/49): loss=0.8049924843773114\n",
      "Least squares gradient Descent(37/49): loss=0.8043799433165914\n",
      "Least squares gradient Descent(38/49): loss=0.8037848003648502\n",
      "Least squares gradient Descent(39/49): loss=0.8032063492400607\n",
      "Least squares gradient Descent(40/49): loss=0.8026439320865357\n",
      "Least squares gradient Descent(41/49): loss=0.8020969342521465\n",
      "Least squares gradient Descent(42/49): loss=0.8015647797971903\n",
      "Least squares gradient Descent(43/49): loss=0.8010469276158095\n",
      "Least squares gradient Descent(44/49): loss=0.8005428680725071\n",
      "Least squares gradient Descent(45/49): loss=0.800052120073614\n",
      "Least squares gradient Descent(46/49): loss=0.7995742285074728\n",
      "Least squares gradient Descent(47/49): loss=0.7991087619983621\n",
      "Least squares gradient Descent(48/49): loss=0.7986553109283491\n",
      "Least squares gradient Descent(49/49): loss=0.7982134856887391\n"
     ]
    },
    {
     "data": {
      "text/plain": [
       "[<matplotlib.lines.Line2D at 0x121b34eb8>]"
      ]
     },
     "execution_count": 13,
     "metadata": {},
     "output_type": "execute_result"
    },
    {
     "data": {
      "image/png": "[encoded data removed]",
      "text/plain": [
       "<Figure size 432x288 with 1 Axes>"
      ]
     },
     "metadata": {
      "needs_background": "light"
     },
     "output_type": "display_data"
    }
   ],
   "source": [
    "initial_w = np.zeros(tX_std.shape[1])\n",
    "max_iters = 50\n",
    "gamma = 0.1\n",
    "w, losses, final_loss = least_squares_GD(y, tX_std, initial_w, max_iters,\n",
    "                                         gamma)\n",
    "plt.plot(losses)"
   ]
  },
  {
   "cell_type": "code",
   "execution_count": 14,
   "metadata": {},
   "outputs": [
    {
     "data": {
      "text/plain": [
       "(0.7977829151289451, 0.7977829151289451)"
      ]
     },
     "execution_count": 14,
     "metadata": {},
     "output_type": "execute_result"
    }
   ],
   "source": [
    "from sklearn.metrics import mean_squared_error\n",
    "#verify that MSE gives same error as MSE from sklearn:\n",
    "mean_squared_error(y,tX_std@w), MSE_loss(y, tX_std, w)"
   ]
  },
  {
   "cell_type": "markdown",
   "metadata": {},
   "source": [
    "### Least Squares SGD:\n",
    "Linear regression using stochastic gradient descent"
   ]
  },
  {
   "cell_type": "code",
   "execution_count": 15,
   "metadata": {
    "run_control": {
     "marked": true
    }
   },
   "outputs": [],
   "source": [
    "def least_squares_SGD(y, tx, initial_w, max_iters, gamma):\n",
    "    batch_size = 1\n",
    "    \"\"\"Stochastic gradient descent algorithm.\"\"\"\n",
    "    ws = [initial_w]\n",
    "    losses = []\n",
    "    w = initial_w\n",
    "    for n_iter in range(max_iters):\n",
    "        for minibatch_y, minibatch_tx in batch_iter(y, tx, batch_size):\n",
    "            grad = gradient_MSE(minibatch_y, minibatch_tx, w)\n",
    "            loss = MSE_loss(minibatch_y, minibatch_tx, w)\n",
    "            w -= gamma * grad\n",
    "            # store w and loss\n",
    "            ws.append(w)\n",
    "            losses.append(loss)\n",
    "            print(\"Least squares gradient Descent({bi}/{ti}): loss={l}\".format(\n",
    "                bi=n_iter, ti=max_iters - 1, l=loss))\n",
    "    return w, losses, losses[-1]"
   ]
  },
  {
   "cell_type": "code",
   "execution_count": 27,
   "metadata": {},
   "outputs": [
    {
     "name": "stdout",
     "output_type": "stream",
     "text": [
      "Least squares gradient Descent(0/99): loss=1.0\n",
      "Least squares gradient Descent(1/99): loss=0.944431814628581\n",
      "Least squares gradient Descent(2/99): loss=1.103413367165196\n",
      "Least squares gradient Descent(3/99): loss=1.0139315731383067\n",
      "Least squares gradient Descent(4/99): loss=0.9918612187343986\n",
      "Least squares gradient Descent(5/99): loss=0.9549236655706692\n",
      "Least squares gradient Descent(6/99): loss=0.9309794643477476\n",
      "Least squares gradient Descent(7/99): loss=0.9194767475382531\n",
      "Least squares gradient Descent(8/99): loss=0.9983415148899305\n",
      "Least squares gradient Descent(9/99): loss=1.0193717054750215\n",
      "Least squares gradient Descent(10/99): loss=0.8887172028579304\n",
      "Least squares gradient Descent(11/99): loss=0.8746493836276178\n",
      "Least squares gradient Descent(12/99): loss=1.005013315035412\n",
      "Least squares gradient Descent(13/99): loss=0.8409821348371556\n",
      "Least squares gradient Descent(14/99): loss=1.1836539318818724\n",
      "Least squares gradient Descent(15/99): loss=1.1616893213097188\n",
      "Least squares gradient Descent(16/99): loss=0.8614398977704765\n",
      "Least squares gradient Descent(17/99): loss=0.9887941676012604\n",
      "Least squares gradient Descent(18/99): loss=1.3150065781888856\n",
      "Least squares gradient Descent(19/99): loss=0.8008781467266691\n",
      "Least squares gradient Descent(20/99): loss=0.9419437055062341\n",
      "Least squares gradient Descent(21/99): loss=1.095304277405155\n",
      "Least squares gradient Descent(22/99): loss=1.0030094508982157\n",
      "Least squares gradient Descent(23/99): loss=1.005563481501398\n",
      "Least squares gradient Descent(24/99): loss=0.9596904719788744\n",
      "Least squares gradient Descent(25/99): loss=0.783660543099068\n",
      "Least squares gradient Descent(26/99): loss=0.8188523082209342\n",
      "Least squares gradient Descent(27/99): loss=1.1204975232060552\n",
      "Least squares gradient Descent(28/99): loss=0.8713637415197918\n",
      "Least squares gradient Descent(29/99): loss=0.9298612213847531\n",
      "Least squares gradient Descent(30/99): loss=1.3217004063776945\n",
      "Least squares gradient Descent(31/99): loss=0.9300998411483296\n",
      "Least squares gradient Descent(32/99): loss=0.9476258165816477\n",
      "Least squares gradient Descent(33/99): loss=0.6843098203021484\n",
      "Least squares gradient Descent(34/99): loss=0.8656013955130641\n",
      "Least squares gradient Descent(35/99): loss=1.1157374052960534\n",
      "Least squares gradient Descent(36/99): loss=0.8274546603277491\n",
      "Least squares gradient Descent(37/99): loss=1.316377207255271\n",
      "Least squares gradient Descent(38/99): loss=1.0059995399919734\n",
      "Least squares gradient Descent(39/99): loss=1.0898344557138953\n",
      "Least squares gradient Descent(40/99): loss=0.7656555349390013\n",
      "Least squares gradient Descent(41/99): loss=0.8887909071906414\n",
      "Least squares gradient Descent(42/99): loss=0.7675715870182822\n",
      "Least squares gradient Descent(43/99): loss=1.2071633971268485\n",
      "Least squares gradient Descent(44/99): loss=0.9852539328628699\n",
      "Least squares gradient Descent(45/99): loss=0.8959320170920467\n",
      "Least squares gradient Descent(46/99): loss=0.9480822180730044\n",
      "Least squares gradient Descent(47/99): loss=0.7107538481837737\n",
      "Least squares gradient Descent(48/99): loss=1.0429484507435518\n",
      "Least squares gradient Descent(49/99): loss=1.4337770456476042\n",
      "Least squares gradient Descent(50/99): loss=0.7416271568101023\n",
      "Least squares gradient Descent(51/99): loss=0.7460141215902927\n",
      "Least squares gradient Descent(52/99): loss=0.5599106648997504\n",
      "Least squares gradient Descent(53/99): loss=0.6949003662694213\n",
      "Least squares gradient Descent(54/99): loss=0.6984024693462341\n",
      "Least squares gradient Descent(55/99): loss=1.4346907050941275\n",
      "Least squares gradient Descent(56/99): loss=0.694280733719731\n",
      "Least squares gradient Descent(57/99): loss=0.6471204631583306\n",
      "Least squares gradient Descent(58/99): loss=1.2050672914795144\n",
      "Least squares gradient Descent(59/99): loss=1.4583461086415315\n",
      "Least squares gradient Descent(60/99): loss=1.4307971071119168\n",
      "Least squares gradient Descent(61/99): loss=0.6981557348730735\n",
      "Least squares gradient Descent(62/99): loss=0.7768151077292693\n",
      "Least squares gradient Descent(63/99): loss=1.226427197838901\n",
      "Least squares gradient Descent(64/99): loss=0.6821986244152299\n",
      "Least squares gradient Descent(65/99): loss=0.8646112523814791\n",
      "Least squares gradient Descent(66/99): loss=0.9667546615367892\n",
      "Least squares gradient Descent(67/99): loss=0.6092766560713911\n",
      "Least squares gradient Descent(68/99): loss=1.2361927841072513\n",
      "Least squares gradient Descent(69/99): loss=0.7399399462117968\n",
      "Least squares gradient Descent(70/99): loss=1.9913992587135734\n",
      "Least squares gradient Descent(71/99): loss=0.8502672145219579\n",
      "Least squares gradient Descent(72/99): loss=0.6728310163176446\n",
      "Least squares gradient Descent(73/99): loss=1.3391640484233351\n",
      "Least squares gradient Descent(74/99): loss=0.6445855214708965\n",
      "Least squares gradient Descent(75/99): loss=0.6376441651390352\n",
      "Least squares gradient Descent(76/99): loss=1.249992602843123\n",
      "Least squares gradient Descent(77/99): loss=1.441958012317785\n",
      "Least squares gradient Descent(78/99): loss=0.9258819289065201\n",
      "Least squares gradient Descent(79/99): loss=0.8529762645542651\n",
      "Least squares gradient Descent(80/99): loss=0.6140224264229728\n",
      "Least squares gradient Descent(81/99): loss=0.7706530526060208\n",
      "Least squares gradient Descent(82/99): loss=1.1224499108087558\n",
      "Least squares gradient Descent(83/99): loss=0.9052635141115096\n",
      "Least squares gradient Descent(84/99): loss=0.710805307326452\n",
      "Least squares gradient Descent(85/99): loss=1.3532263187468552\n",
      "Least squares gradient Descent(86/99): loss=1.4342288553212579\n",
      "Least squares gradient Descent(87/99): loss=1.3825217517148662\n",
      "Least squares gradient Descent(88/99): loss=1.2072082051003628\n",
      "Least squares gradient Descent(89/99): loss=1.2770005245804454\n",
      "Least squares gradient Descent(90/99): loss=0.7658257544060545\n",
      "Least squares gradient Descent(91/99): loss=0.6052248225734813\n",
      "Least squares gradient Descent(92/99): loss=0.6683002915072057\n",
      "Least squares gradient Descent(93/99): loss=1.273114174126912\n",
      "Least squares gradient Descent(94/99): loss=1.3462143810064584\n",
      "Least squares gradient Descent(95/99): loss=0.6006315164010253\n",
      "Least squares gradient Descent(96/99): loss=1.1127618675935698\n",
      "Least squares gradient Descent(97/99): loss=0.7245597573314431\n",
      "Least squares gradient Descent(98/99): loss=1.207465610798202\n",
      "Least squares gradient Descent(99/99): loss=1.0299660785857596\n"
     ]
    },
    {
     "data": {
      "text/plain": [
       "[<matplotlib.lines.Line2D at 0x121d842e8>]"
      ]
     },
     "execution_count": 27,
     "metadata": {},
     "output_type": "execute_result"
    },
    {
     "data": {
      "image/png": "[encoded data removed]",
      "text/plain": [
       "<Figure size 432x288 with 1 Axes>"
      ]
     },
     "metadata": {
      "needs_background": "light"
     },
     "output_type": "display_data"
    }
   ],
   "source": [
    "initial_w = np.zeros(tX_std.shape[1])\n",
    "max_iters = 100\n",
    "gamma = 0.001\n",
    "w, losses, final_loss = least_squares_SGD(y, tX_std, initial_w, max_iters,\n",
    "                                         gamma)\n",
    "plt.plot(losses)"
   ]
  },
  {
   "cell_type": "markdown",
   "metadata": {},
   "source": [
    "### Least Squares:\n",
    "Least squares regression using normal equations. Solve $A^TAx = A^Ty$, Ax = b → x = np.linalg.solve(A, b)"
   ]
  },
  {
   "cell_type": "code",
   "execution_count": 24,
   "metadata": {},
   "outputs": [],
   "source": [
    "def least_squares(y, tX):\n",
    "    w = np.linalg.solve(tX.T@tX,tX.T@y)\n",
    "    loss = MSE_loss(y, tX, w)\n",
    "    return w, loss"
   ]
  },
  {
   "cell_type": "code",
   "execution_count": 25,
   "metadata": {},
   "outputs": [
    {
     "data": {
      "text/plain": [
       "(array([ 2.93788277e-02, -2.52531474e-01, -2.54791125e-01, -3.03696826e-02,\n",
       "        -1.40144781e+00,  2.95701641e-01, -1.07889474e+01,  2.67880862e-01,\n",
       "        -2.44934951e-03, -3.28854694e+02, -1.82647888e-01,  1.14039627e-01,\n",
       "         2.05045969e+01,  6.38905957e+01, -3.18961844e-04, -1.80884303e-03,\n",
       "         6.29996662e+01, -4.48641741e-04,  1.54379312e-03,  1.21462700e-01,\n",
       "         3.95268515e-04, -6.33223483e-02, -2.06747091e-01, -1.16655759e-01,\n",
       "         9.86256834e-02,  1.67907660e-01, -3.35146276e-02, -2.98358672e+00,\n",
       "        -5.36388116e+00,  2.78501929e+02]),\n",
       " 0.7779046298744752)"
      ]
     },
     "execution_count": 25,
     "metadata": {},
     "output_type": "execute_result"
    }
   ],
   "source": [
    "w, loss = least_squares(y, tX_std)\n",
    "w, loss"
   ]
  },
  {
   "cell_type": "markdown",
   "metadata": {},
   "source": [
    "### Ridge Regression: \n",
    "Ridge regression using normal equations. $w^* = (X^T X+\\lambda I)^{-1}X^Ty$"
   ]
  },
  {
   "cell_type": "code",
   "execution_count": 32,
   "metadata": {},
   "outputs": [],
   "source": [
    "lambda_ = 0.02\n",
    "def ridge_regression(y, tX, lambda_):\n",
    "    w = np.linalg.solve(tX.T@tX+lambda_*np.eye(tX.shape[1]),tX.T@y)\n",
    "    loss = MSE_loss(y, tX, w)\n",
    "    return w, loss"
   ]
  },
  {
   "cell_type": "code",
   "execution_count": 34,
   "metadata": {},
   "outputs": [
    {
     "data": {
      "text/plain": [
       "(array([ 2.93666781e-02, -2.52530497e-01, -2.54823428e-01, -3.02099334e-02,\n",
       "         8.53966995e-01,  2.92033690e-01, -1.01968078e+01,  2.67887607e-01,\n",
       "        -2.52731682e-03, -3.50032924e-02, -1.82661485e-01,  1.14032110e-01,\n",
       "         1.70868417e+01,  1.98775744e-01, -3.51306513e-04, -1.76418914e-03,\n",
       "         2.94473957e-01, -4.74274957e-04,  1.59561206e-03,  1.21483014e-01,\n",
       "         4.42749327e-04, -6.32331358e-02, -2.06402058e-01, -1.13409100e-01,\n",
       "         1.05354901e-01,  1.57890918e-01, -1.44627398e-02, -2.74806187e+00,\n",
       "        -5.04492362e+00, -4.45555753e-02]),\n",
       " 0.777912229090242)"
      ]
     },
     "execution_count": 34,
     "metadata": {},
     "output_type": "execute_result"
    }
   ],
   "source": [
    "w, loss = ridge_regression(y, tX_std,lambda_)\n",
    "w, loss"
   ]
  },
  {
   "cell_type": "markdown",
   "metadata": {},
   "source": [
    "### Logistic regression: \n",
    "Logistic regression using gradient descent or SGD. \n",
    "https://github.com/SSaishruthi/LogisticRegression_Vectorized_Implementation/blob/master/Logistic_Regression.ipynb"
   ]
  },
  {
   "cell_type": "code",
   "execution_count": 40,
   "metadata": {},
   "outputs": [],
   "source": [
    "def sigmoid_activation(r):\n",
    "    final_result = 1 / (1 + np.exp(-r))\n",
    "    return final_result"
   ]
  },
  {
   "cell_type": "code",
   "execution_count": 47,
   "metadata": {},
   "outputs": [],
   "source": [
    "def model_optimize(w, X, Y):\n",
    "    m = X.shape[0]\n",
    "\n",
    "    #Prediction\n",
    "    final_result = sigmoid_activation(np.dot(w, X.T))\n",
    "    Y_T = Y.T\n",
    "    cost = (-1 / m) * (np.sum((Y_T * np.log(final_result)) +\n",
    "                              ((1 - Y_T) * (np.log(1 - final_result)))))\n",
    "    #Gradient calculation\n",
    "    dw = (1 / m) * (np.dot(X.T, (final_result - Y.T).T))\n",
    "    grads = {\"dw\": dw}\n",
    "    return grads, cost"
   ]
  },
  {
   "cell_type": "code",
   "execution_count": 63,
   "metadata": {},
   "outputs": [],
   "source": [
    "def logistic_regression(Y, X, initial_w, max_iters, gamma):\n",
    "    losses = []\n",
    "    for n_iter in range(max_iters):\n",
    "        #\n",
    "        grads, loss = model_optimize(initial_w,X,Y)\n",
    "        #\n",
    "        dw = grads[\"dw\"]\n",
    "        #weight update\n",
    "        w = w - (gamma * (dw.T))\n",
    "        losses.append(loss)\n",
    "        print(\"Logistic regression ({bi}/{ti}): loss={l}\".format(\n",
    "                bi=n_iter, ti=max_iters - 1, l=loss))\n",
    "\n",
    "    #final parameters\n",
    "    coeff = {\"w\": w}\n",
    "    gradient = {\"dw\": dw}\n",
    "    \n",
    "    return coeff, gradient, losses, losses[-1]"
   ]
  },
  {
   "cell_type": "code",
   "execution_count": 64,
   "metadata": {},
   "outputs": [
    {
     "name": "stdout",
     "output_type": "stream",
     "text": [
      "Logistic regression (0/49): loss=0.693147180559945\n",
      "Logistic regression (1/49): loss=0.6925248331090583\n",
      "Logistic regression (2/49): loss=0.6919050320835164\n",
      "Logistic regression (3/49): loss=0.6912877631121825\n",
      "Logistic regression (4/49): loss=0.690673011895361\n",
      "Logistic regression (5/49): loss=0.6900607642047352\n",
      "Logistic regression (6/49): loss=0.6894510058832996\n",
      "Logistic regression (7/49): loss=0.6888437228452874\n",
      "Logistic regression (8/49): loss=0.6882389010760898\n",
      "Logistic regression (9/49): loss=0.6876365266321747\n",
      "Logistic regression (10/49): loss=0.687036585640994\n",
      "Logistic regression (11/49): loss=0.6864390643008913\n",
      "Logistic regression (12/49): loss=0.6858439488810026\n",
      "Logistic regression (13/49): loss=0.6852512257211503\n",
      "Logistic regression (14/49): loss=0.6846608812317351\n",
      "Logistic regression (15/49): loss=0.6840729018936211\n",
      "Logistic regression (16/49): loss=0.6834872742580173\n",
      "Logistic regression (17/49): loss=0.6829039849463542\n",
      "Logistic regression (18/49): loss=0.6823230206501556\n",
      "Logistic regression (19/49): loss=0.6817443681309071\n",
      "Logistic regression (20/49): loss=0.6811680142199185\n",
      "Logistic regression (21/49): loss=0.6805939458181831\n",
      "Logistic regression (22/49): loss=0.6800221498962321\n",
      "Logistic regression (23/49): loss=0.6794526134939874\n",
      "Logistic regression (24/49): loss=0.6788853237206055\n",
      "Logistic regression (25/49): loss=0.6783202677543223\n",
      "Logistic regression (26/49): loss=0.6777574328422925\n",
      "Logistic regression (27/49): loss=0.6771968063004233\n",
      "Logistic regression (28/49): loss=0.6766383755132075\n",
      "Logistic regression (29/49): loss=0.6760821279335509\n",
      "Logistic regression (30/49): loss=0.6755280510825967\n",
      "Logistic regression (31/49): loss=0.6749761325495476\n",
      "Logistic regression (32/49): loss=0.6744263599914818\n",
      "Logistic regression (33/49): loss=0.6738787211331699\n",
      "Logistic regression (34/49): loss=0.6733332037668844\n",
      "Logistic regression (35/49): loss=0.6727897957522087\n",
      "Logistic regression (36/49): loss=0.6722484850158417\n",
      "Logistic regression (37/49): loss=0.6717092595514004\n",
      "Logistic regression (38/49): loss=0.6711721074192193\n",
      "Logistic regression (39/49): loss=0.6706370167461466\n",
      "Logistic regression (40/49): loss=0.6701039757253383\n",
      "Logistic regression (41/49): loss=0.6695729726160483\n",
      "Logistic regression (42/49): loss=0.6690439957434183\n",
      "Logistic regression (43/49): loss=0.6685170334982631\n",
      "Logistic regression (44/49): loss=0.6679920743368526\n",
      "Logistic regression (45/49): loss=0.6674691067806955\n",
      "Logistic regression (46/49): loss=0.666948119416316\n",
      "Logistic regression (47/49): loss=0.6664291008950308\n",
      "Logistic regression (48/49): loss=0.6659120399327234\n",
      "Logistic regression (49/49): loss=0.6653969253096165\n"
     ]
    },
    {
     "data": {
      "text/plain": [
       "[<matplotlib.lines.Line2D at 0x122044668>]"
      ]
     },
     "execution_count": 64,
     "metadata": {},
     "output_type": "execute_result"
    },
    {
     "data": {
      "image/png": "[encoded data removed]",
      "text/plain": [
       "<Figure size 432x288 with 1 Axes>"
      ]
     },
     "metadata": {
      "needs_background": "light"
     },
     "output_type": "display_data"
    }
   ],
   "source": [
    "initial_w = np.zeros(tX_std.shape[1])\n",
    "max_iters = 50\n",
    "gamma = 0.001\n",
    "coeff, gradient, costs, final_loss = model_predict(initial_w, tX_std,y, gamma, max_iters)\n",
    "plt.plot(losses)"
   ]
  },
  {
   "cell_type": "markdown",
   "metadata": {},
   "source": [
    "### Regularized logistic regression\n",
    "Regularized logistic regression using gradient descent or SGD"
   ]
  },
  {
   "cell_type": "code",
   "execution_count": null,
   "metadata": {},
   "outputs": [],
   "source": [
    "def reg_logistic_regression(y, tx, lambda_, initial_w, max_iters, gamma):\n",
    "    \"\"\"TO DO\"\"\"\n",
    "    raise Exception(\"Not implemented yet\")\n",
    "    return 0"
   ]
  },
  {
   "cell_type": "markdown",
   "metadata": {},
   "source": [
    "## Generate predictions and save ouput in csv format for submission:"
   ]
  },
  {
   "cell_type": "code",
   "execution_count": null,
   "metadata": {},
   "outputs": [],
   "source": [
    "DATA_TEST_PATH = '../data/test.csv' # TODO: download test data and supply path here \n",
    "_, tX_test, ids_test = load_csv_data(DATA_TEST_PATH)\n",
    "print(f'test data shape: X {tX_test.shape}')"
   ]
  },
  {
   "cell_type": "code",
   "execution_count": null,
   "metadata": {},
   "outputs": [],
   "source": [
    "\"\"\"\n",
    "OUTPUT_PATH = '' # TODO: fill in desired name of output file for submission\n",
    "y_pred = predict_labels(weights, tX_test)\n",
    "create_csv_submission(ids_test, y_pred, OUTPUT_PATH)\n",
    "\"\"\""
   ]
  },
  {
   "cell_type": "code",
   "execution_count": null,
   "metadata": {},
   "outputs": [],
   "source": []
  }
 ],
 "metadata": {
  "kernelspec": {
   "display_name": "ML",
   "language": "python",
   "name": "ml"
  },
  "language_info": {
   "codemirror_mode": {
    "name": "ipython",
    "version": 3
   },
   "file_extension": ".py",
   "mimetype": "text/x-python",
   "name": "python",
   "nbconvert_exporter": "python",
   "pygments_lexer": "ipython3",
   "version": "3.7.3"
  },
  "toc": {
   "base_numbering": 1,
   "nav_menu": {},
   "number_sections": true,
   "sideBar": true,
   "skip_h1_title": false,
   "title_cell": "Table of Contents",
   "title_sidebar": "Contents",
   "toc_cell": false,
   "toc_position": {},
   "toc_section_display": true,
   "toc_window_display": false
  }
 },
 "nbformat": 4,
 "nbformat_minor": 4
}
