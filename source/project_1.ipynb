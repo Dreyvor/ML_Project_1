{
 "cells": [
  {
   "cell_type": "markdown",
   "metadata": {},
   "source": [
    "## Setting up: "
   ]
  },
  {
   "cell_type": "code",
   "execution_count": 1,
   "metadata": {},
   "outputs": [],
   "source": [
    "# Useful starting lines\n",
    "%matplotlib inline\n",
    "import numpy as np\n",
    "import matplotlib.pyplot as plt\n",
    "\n",
    "import datetime\n",
    "\n",
    "%load_ext autoreload\n",
    "%autoreload 2\n",
    "\n",
    "#additional functions: \n",
    "from add_functions.proj1_helpers import *\n",
    "from add_functions.ml_methods_labs import *"
   ]
  },
  {
   "cell_type": "markdown",
   "metadata": {},
   "source": [
    "### Load Data: \n",
    "\n",
    "- train.csv - Training set of 250000 events. The file starts with the ID column, then the label column (the y you have to predict), and finally 30 feature columns.\n",
    "- test.csv - The test set of around 568238 events - Everything as above, except the label is missing.\n",
    "- sample-submission.csv - a sample submission file in the correct format. The sample submission always predicts -1, that is ‘background’.\n",
    "\n",
    "Note: \n",
    "- all variables are floating point, except PRI_jet_num which is integer\n",
    "- variables prefixed with PRI (for PRImitives) are “raw” quantities about the bunch collision as measured by the detector.\n",
    "- variables prefixed with DER (for DERived) are quantities computed from the primitive features, which were selected by the physicists of ATLAS.\n",
    "- it can happen that for some entries some variables are meaningless or cannot be computed; in this case, their value is −999.0, which is outside the normal range of all variables."
   ]
  },
  {
   "cell_type": "code",
   "execution_count": 2,
   "metadata": {},
   "outputs": [],
   "source": [
    "DATA_TRAIN_PATH = '../data/train.csv' # TODO: download train data and supply path here \n",
    "y, tX, ids = load_csv_data(DATA_TRAIN_PATH)"
   ]
  },
  {
   "cell_type": "code",
   "execution_count": 3,
   "metadata": {},
   "outputs": [
    {
     "name": "stdout",
     "output_type": "stream",
     "text": [
      "training data shape: y (250000,), X (250000, 30)\n"
     ]
    }
   ],
   "source": [
    "print(f'training data shape: y {y.shape}, X {tX.shape}')"
   ]
  },
  {
   "cell_type": "code",
   "execution_count": 4,
   "metadata": {},
   "outputs": [
    {
     "data": {
      "text/plain": [
       "(array([ 1., -1., -1., -1., -1., -1.,  1.,  1., -1.,  1.]),\n",
       " array([[ 138.47 ,   51.655],\n",
       "        [ 160.937,   68.768],\n",
       "        [-999.   ,  162.172],\n",
       "        [ 143.905,   81.417],\n",
       "        [ 175.864,   16.915],\n",
       "        [  89.744,   13.55 ],\n",
       "        [ 148.754,   28.862],\n",
       "        [ 154.916,   10.418],\n",
       "        [ 105.594,   50.559],\n",
       "        [ 128.053,   88.941]]))"
      ]
     },
     "execution_count": 4,
     "metadata": {},
     "output_type": "execute_result"
    }
   ],
   "source": [
    "y[:10], tX[:10,:2]"
   ]
  },
  {
   "cell_type": "code",
   "execution_count": 5,
   "metadata": {},
   "outputs": [
    {
     "data": {
      "text/plain": [
       "array([[ 0.46141372,  0.06833197,  0.40768027, ...,  1.5668    ,\n",
       "         1.55858439,  0.4125105 ],\n",
       "       [ 0.51670419,  0.55250482,  0.54013641, ..., -0.63936657,\n",
       "        -0.63936694, -0.27381996],\n",
       "       [-2.33785898,  3.19515553,  1.09655998, ..., -0.63936657,\n",
       "        -0.63936694, -0.29396985],\n",
       "       ...,\n",
       "       [ 0.38016991,  0.31931645, -0.13086367, ..., -0.63936657,\n",
       "        -0.63936694, -0.31701723],\n",
       "       [ 0.35431502, -0.84532397, -0.30297338, ..., -0.63936657,\n",
       "        -0.63936694, -0.74543941],\n",
       "       [-2.33785898,  0.66533608, -0.25352276, ..., -0.63936657,\n",
       "        -0.63936694, -0.74543941]])"
      ]
     },
     "execution_count": 5,
     "metadata": {},
     "output_type": "execute_result"
    }
   ],
   "source": [
    "### standardize data:  \n",
    "tX_std = standardize(tX)\n",
    "\n",
    "#check if standardization method correct: \n",
    "from sklearn.preprocessing import StandardScaler\n",
    "scaler = StandardScaler()\n",
    "scaler.fit(tX)\n",
    "#print(scaler.transform(tX))\n",
    "\n",
    "tX_std"
   ]
  },
  {
   "cell_type": "code",
   "execution_count": 6,
   "metadata": {
    "scrolled": true
   },
   "outputs": [
    {
     "data": {
      "text/plain": [
       "<matplotlib.collections.PathCollection at 0x11e126fd0>"
      ]
     },
     "execution_count": 6,
     "metadata": {},
     "output_type": "execute_result"
    },
    {
     "data": {
      "image/png": "[encoded data removed]",
      "text/plain": [
       "<Figure size 432x288 with 1 Axes>"
      ]
     },
     "metadata": {
      "needs_background": "light"
     },
     "output_type": "display_data"
    }
   ],
   "source": [
    "#Plot a few samples of first two coordinates:\n",
    "NUM_POINTS = 40\n",
    "plt.scatter(tX[:NUM_POINTS,0], tX[:NUM_POINTS,1], c = y[:NUM_POINTS])"
   ]
  },
  {
   "cell_type": "code",
   "execution_count": null,
   "metadata": {},
   "outputs": [],
   "source": []
  },
  {
   "cell_type": "code",
   "execution_count": 7,
   "metadata": {},
   "outputs": [],
   "source": [
    "import seaborn as sns\n",
    "import pandas as pd\n",
    "\n",
    "#sns.pairplot(pd.DataFrame(tX_std))"
   ]
  },
  {
   "cell_type": "markdown",
   "metadata": {},
   "source": [
    "## Implement ML methods:\n",
    "\n",
    "You should take care of the following:\n",
    "- Return type: Note that all functions should return: (w, loss), which is the last weight vector of the method, and the corresponding loss value (cost function). Note that while in previous labs you might have kept track of all encountered w for iterative methods, here we only want the last one.\n",
    "- File names: Please provide all function implementations in a single python file, called implementations.py.\n",
    "- All code should be easily readable and commented.\n",
    "- Note that we might automatically call your provided methods and evaluate for correct implementation"
   ]
  },
  {
   "cell_type": "markdown",
   "metadata": {},
   "source": [
    "### Least Squares GD: \n",
    "Linear regression using gradient descent"
   ]
  },
  {
   "cell_type": "code",
   "execution_count": 8,
   "metadata": {},
   "outputs": [],
   "source": [
    "def gradient_MSE(y, tx, w):\n",
    "    return (-1/len(y))*tx.T@(y-tx@w)"
   ]
  },
  {
   "cell_type": "code",
   "execution_count": 9,
   "metadata": {},
   "outputs": [],
   "source": [
    "def MSE_loss(y, tx, w):\n",
    "    \"\"\"Calculate the loss.\n",
    "    You can calculate the loss using mse or mae.\n",
    "    \"\"\"\n",
    "    MSE = np.square(np.subtract(y,tx@w)).mean()\n",
    "    return MSE"
   ]
  },
  {
   "cell_type": "code",
   "execution_count": 10,
   "metadata": {},
   "outputs": [],
   "source": [
    "def least_squares_GD(y, tx, initial_w, max_iters, gamma):\n",
    "    losses = []\n",
    "    w = initial_w\n",
    "    for n_iter in range(max_iters):\n",
    "        grad = gradient_MSE(y, tx, w)\n",
    "        loss = MSE_loss(y, tx, w)\n",
    "        w -= gamma * grad\n",
    "        # store w and loss:\n",
    "        losses.append(loss)\n",
    "        print(\"Least squares gradient Descent({bi}/{ti}): loss={l}\".format(\n",
    "            bi=n_iter, ti=max_iters - 1, l=loss))\n",
    "    return w, losses, losses[-1]"
   ]
  },
  {
   "cell_type": "code",
   "execution_count": 11,
   "metadata": {},
   "outputs": [
    {
     "name": "stdout",
     "output_type": "stream",
     "text": [
      "Least squares gradient Descent(0/49): loss=1.0\n",
      "Least squares gradient Descent(1/49): loss=0.9264755130297607\n",
      "Least squares gradient Descent(2/49): loss=0.8962466370379263\n",
      "Least squares gradient Descent(3/49): loss=0.8771600577769225\n",
      "Least squares gradient Descent(4/49): loss=0.8642270151661157\n",
      "Least squares gradient Descent(5/49): loss=0.8551458442459038\n",
      "Least squares gradient Descent(6/49): loss=0.8485355498878915\n",
      "Least squares gradient Descent(7/49): loss=0.8435390789639571\n",
      "Least squares gradient Descent(8/49): loss=0.839618166428172\n",
      "Least squares gradient Descent(9/49): loss=0.8364307895640358\n",
      "Least squares gradient Descent(10/49): loss=0.8337566792321112\n",
      "Least squares gradient Descent(11/49): loss=0.8314517631067184\n",
      "Least squares gradient Descent(12/49): loss=0.8294201370090644\n",
      "Least squares gradient Descent(13/49): loss=0.8275967020952479\n",
      "Least squares gradient Descent(14/49): loss=0.825936323685389\n",
      "Least squares gradient Descent(15/49): loss=0.824407000052939\n",
      "Least squares gradient Descent(16/49): loss=0.822985512734569\n",
      "Least squares gradient Descent(17/49): loss=0.8216546239049243\n",
      "Least squares gradient Descent(18/49): loss=0.8204012464387306\n",
      "Least squares gradient Descent(19/49): loss=0.8192152314360008\n",
      "Least squares gradient Descent(20/49): loss=0.8180885519776158\n",
      "Least squares gradient Descent(21/49): loss=0.8170147442288442\n",
      "Least squares gradient Descent(22/49): loss=0.8159885179204107\n",
      "Least squares gradient Descent(23/49): loss=0.8150054799239733\n",
      "Least squares gradient Descent(24/49): loss=0.8140619345101033\n",
      "Least squares gradient Descent(25/49): loss=0.8131547364439042\n",
      "Least squares gradient Descent(26/49): loss=0.8122811810960382\n",
      "Least squares gradient Descent(27/49): loss=0.8114389209217358\n",
      "Least squares gradient Descent(28/49): loss=0.8106259010360852\n",
      "Least squares gradient Descent(29/49): loss=0.8098403088429811\n",
      "Least squares gradient Descent(30/49): loss=0.809080534166255\n",
      "Least squares gradient Descent(31/49): loss=0.8083451373426869\n",
      "Least squares gradient Descent(32/49): loss=0.8076328234320299\n",
      "Least squares gradient Descent(33/49): loss=0.8069424211844628\n",
      "Least squares gradient Descent(34/49): loss=0.8062728657493831\n",
      "Least squares gradient Descent(35/49): loss=0.8056231843561815\n",
      "Least squares gradient Descent(36/49): loss=0.8049924843773114\n",
      "Least squares gradient Descent(37/49): loss=0.8043799433165914\n",
      "Least squares gradient Descent(38/49): loss=0.8037848003648502\n",
      "Least squares gradient Descent(39/49): loss=0.8032063492400607\n",
      "Least squares gradient Descent(40/49): loss=0.8026439320865357\n",
      "Least squares gradient Descent(41/49): loss=0.8020969342521465\n",
      "Least squares gradient Descent(42/49): loss=0.8015647797971903\n",
      "Least squares gradient Descent(43/49): loss=0.8010469276158095\n",
      "Least squares gradient Descent(44/49): loss=0.8005428680725071\n",
      "Least squares gradient Descent(45/49): loss=0.800052120073614\n",
      "Least squares gradient Descent(46/49): loss=0.7995742285074728\n",
      "Least squares gradient Descent(47/49): loss=0.7991087619983621\n",
      "Least squares gradient Descent(48/49): loss=0.7986553109283491\n",
      "Least squares gradient Descent(49/49): loss=0.7982134856887391\n"
     ]
    },
    {
     "data": {
      "text/plain": [
       "[<matplotlib.lines.Line2D at 0x12023eb00>]"
      ]
     },
     "execution_count": 11,
     "metadata": {},
     "output_type": "execute_result"
    },
    {
     "data": {
      "image/png": "[encoded data removed]",
      "text/plain": [
       "<Figure size 432x288 with 1 Axes>"
      ]
     },
     "metadata": {
      "needs_background": "light"
     },
     "output_type": "display_data"
    }
   ],
   "source": [
    "initial_w = np.zeros(tX_std.shape[1])\n",
    "max_iters = 50\n",
    "gamma = 0.1\n",
    "w_ls_GD, losses_ls_GD, final_loss_ls_GD = least_squares_GD(\n",
    "    y, tX_std, initial_w, max_iters, gamma)\n",
    "plt.plot(losses_ls_GD)"
   ]
  },
  {
   "cell_type": "code",
   "execution_count": 12,
   "metadata": {},
   "outputs": [
    {
     "data": {
      "text/plain": [
       "(0.7977829151289451, 0.7977829151289451)"
      ]
     },
     "execution_count": 12,
     "metadata": {},
     "output_type": "execute_result"
    }
   ],
   "source": [
    "from sklearn.metrics import mean_squared_error\n",
    "#verify that MSE gives same error as MSE from sklearn:\n",
    "mean_squared_error(y, tX_std @ w_ls_GD), MSE_loss(y, tX_std, w_ls_GD)"
   ]
  },
  {
   "cell_type": "markdown",
   "metadata": {},
   "source": [
    "### Least Squares SGD:\n",
    "Linear regression using stochastic gradient descent"
   ]
  },
  {
   "cell_type": "code",
   "execution_count": 13,
   "metadata": {
    "run_control": {
     "marked": true
    }
   },
   "outputs": [],
   "source": [
    "def least_squares_SGD(y, tx, initial_w, max_iters, gamma):\n",
    "    batch_size = 1\n",
    "    \"\"\"Stochastic gradient descent algorithm.\"\"\"\n",
    "    losses = []\n",
    "    w = initial_w\n",
    "    for n_iter in range(max_iters):\n",
    "        for minibatch_y, minibatch_tx in batch_iter(y, tx, batch_size):\n",
    "            grad = gradient_MSE(minibatch_y, minibatch_tx, w)\n",
    "            loss = MSE_loss(minibatch_y, minibatch_tx, w)\n",
    "            w -= gamma * grad\n",
    "            # store w and loss\n",
    "            losses.append(loss)\n",
    "            print(\"Least squares gradient Descent({bi}/{ti}): loss={l}\".format(\n",
    "                bi=n_iter, ti=max_iters - 1, l=loss))\n",
    "    return w, losses, losses[-1]"
   ]
  },
  {
   "cell_type": "code",
   "execution_count": 14,
   "metadata": {
    "scrolled": false
   },
   "outputs": [
    {
     "name": "stdout",
     "output_type": "stream",
     "text": [
      "Least squares gradient Descent(0/99): loss=1.0\n",
      "Least squares gradient Descent(1/99): loss=1.3220016948861768\n",
      "Least squares gradient Descent(2/99): loss=1.0384937157983953\n",
      "Least squares gradient Descent(3/99): loss=0.9121626895920912\n",
      "Least squares gradient Descent(4/99): loss=0.7092860477376092\n",
      "Least squares gradient Descent(5/99): loss=0.3846722558317682\n",
      "Least squares gradient Descent(6/99): loss=0.8754115920912949\n",
      "Least squares gradient Descent(7/99): loss=1.0618402731556953\n",
      "Least squares gradient Descent(8/99): loss=0.45687846776390306\n",
      "Least squares gradient Descent(9/99): loss=0.7352688084512824\n",
      "Least squares gradient Descent(10/99): loss=0.5801203331315277\n",
      "Least squares gradient Descent(11/99): loss=0.1605550056679474\n",
      "Least squares gradient Descent(12/99): loss=2.3533455072108587\n",
      "Least squares gradient Descent(13/99): loss=0.6330923380431532\n",
      "Least squares gradient Descent(14/99): loss=0.598799509691423\n",
      "Least squares gradient Descent(15/99): loss=1.9235818948060657\n",
      "Least squares gradient Descent(16/99): loss=0.8727352253216702\n",
      "Least squares gradient Descent(17/99): loss=1.026841025886691\n",
      "Least squares gradient Descent(18/99): loss=0.14542958498549713\n",
      "Least squares gradient Descent(19/99): loss=0.4633944175700201\n",
      "Least squares gradient Descent(20/99): loss=1.8019549033201365\n",
      "Least squares gradient Descent(21/99): loss=1.685052192981077\n",
      "Least squares gradient Descent(22/99): loss=0.058805108849733216\n",
      "Least squares gradient Descent(23/99): loss=1.3862946976623816\n",
      "Least squares gradient Descent(24/99): loss=1.2680663562836538\n",
      "Least squares gradient Descent(25/99): loss=0.5422018631896256\n",
      "Least squares gradient Descent(26/99): loss=0.8522458331006786\n",
      "Least squares gradient Descent(27/99): loss=1.527285944400069\n",
      "Least squares gradient Descent(28/99): loss=1.1437104095621131\n",
      "Least squares gradient Descent(29/99): loss=2.0888230083447867\n",
      "Least squares gradient Descent(30/99): loss=0.8422745597840405\n",
      "Least squares gradient Descent(31/99): loss=1.5503678316133715\n",
      "Least squares gradient Descent(32/99): loss=0.9890715731731189\n",
      "Least squares gradient Descent(33/99): loss=1.0662149426766598\n",
      "Least squares gradient Descent(34/99): loss=2.0014523358807788\n",
      "Least squares gradient Descent(35/99): loss=2.0796811327137914\n",
      "Least squares gradient Descent(36/99): loss=0.7208374545110573\n",
      "Least squares gradient Descent(37/99): loss=0.654489584992339\n",
      "Least squares gradient Descent(38/99): loss=1.9635640050283512\n",
      "Least squares gradient Descent(39/99): loss=1.2108674282402514\n",
      "Least squares gradient Descent(40/99): loss=1.1900122319091566\n",
      "Least squares gradient Descent(41/99): loss=1.2975158093622796\n",
      "Least squares gradient Descent(42/99): loss=0.343008378868435\n",
      "Least squares gradient Descent(43/99): loss=0.3332641947950574\n",
      "Least squares gradient Descent(44/99): loss=0.8894852167134359\n",
      "Least squares gradient Descent(45/99): loss=0.588812218571155\n",
      "Least squares gradient Descent(46/99): loss=0.767296180019562\n",
      "Least squares gradient Descent(47/99): loss=0.20857956998969784\n",
      "Least squares gradient Descent(48/99): loss=1.678014832082485\n",
      "Least squares gradient Descent(49/99): loss=0.3948322540450989\n",
      "Least squares gradient Descent(50/99): loss=0.022941160019361185\n",
      "Least squares gradient Descent(51/99): loss=0.30739107252276837\n",
      "Least squares gradient Descent(52/99): loss=2.9801232746603232\n",
      "Least squares gradient Descent(53/99): loss=2.715316641621928\n",
      "Least squares gradient Descent(54/99): loss=1.3527393278471471\n",
      "Least squares gradient Descent(55/99): loss=0.363914079894538\n",
      "Least squares gradient Descent(56/99): loss=1.197386371694206\n",
      "Least squares gradient Descent(57/99): loss=2.333656141608194\n",
      "Least squares gradient Descent(58/99): loss=1.4685826288880854\n",
      "Least squares gradient Descent(59/99): loss=1.3326169952791804\n",
      "Least squares gradient Descent(60/99): loss=0.8369975146559517\n",
      "Least squares gradient Descent(61/99): loss=0.8049800855194145\n",
      "Least squares gradient Descent(62/99): loss=0.5483157070152664\n",
      "Least squares gradient Descent(63/99): loss=1.4706984958809926\n",
      "Least squares gradient Descent(64/99): loss=0.702869598966055\n",
      "Least squares gradient Descent(65/99): loss=1.7800600959252606\n",
      "Least squares gradient Descent(66/99): loss=0.21131716971794548\n",
      "Least squares gradient Descent(67/99): loss=2.547121780977606\n",
      "Least squares gradient Descent(68/99): loss=0.32579541884802743\n",
      "Least squares gradient Descent(69/99): loss=1.8095960620924276\n",
      "Least squares gradient Descent(70/99): loss=1.2042343663875001\n",
      "Least squares gradient Descent(71/99): loss=0.8241825116167809\n",
      "Least squares gradient Descent(72/99): loss=0.5385823019800329\n",
      "Least squares gradient Descent(73/99): loss=1.6584870875015834\n",
      "Least squares gradient Descent(74/99): loss=2.4889519756451923\n",
      "Least squares gradient Descent(75/99): loss=0.7192877478310439\n",
      "Least squares gradient Descent(76/99): loss=0.5127808029530145\n",
      "Least squares gradient Descent(77/99): loss=0.7337071422155235\n",
      "Least squares gradient Descent(78/99): loss=1.1241048882475309\n",
      "Least squares gradient Descent(79/99): loss=1.9520322317398482\n",
      "Least squares gradient Descent(80/99): loss=0.6056717759903115\n",
      "Least squares gradient Descent(81/99): loss=1.1748710045399349\n",
      "Least squares gradient Descent(82/99): loss=0.5777131278224217\n",
      "Least squares gradient Descent(83/99): loss=1.118233040762513\n",
      "Least squares gradient Descent(84/99): loss=0.20333049391991617\n",
      "Least squares gradient Descent(85/99): loss=0.9086114362418518\n",
      "Least squares gradient Descent(86/99): loss=0.4034914884146592\n",
      "Least squares gradient Descent(87/99): loss=2.105918818221754\n",
      "Least squares gradient Descent(88/99): loss=0.13022932585036964\n",
      "Least squares gradient Descent(89/99): loss=0.05004418731742493\n",
      "Least squares gradient Descent(90/99): loss=0.5223025847875035\n",
      "Least squares gradient Descent(91/99): loss=0.38485698171205135\n",
      "Least squares gradient Descent(92/99): loss=0.40651163913337723\n",
      "Least squares gradient Descent(93/99): loss=0.003828858396424968\n",
      "Least squares gradient Descent(94/99): loss=0.8969803645626573\n",
      "Least squares gradient Descent(95/99): loss=0.2922559665185057\n",
      "Least squares gradient Descent(96/99): loss=1.4940446299738859\n",
      "Least squares gradient Descent(97/99): loss=0.13668817281785534\n",
      "Least squares gradient Descent(98/99): loss=0.6723338843131663\n",
      "Least squares gradient Descent(99/99): loss=1.0892382046910967\n"
     ]
    },
    {
     "data": {
      "text/plain": [
       "[<matplotlib.lines.Line2D at 0x120383c50>]"
      ]
     },
     "execution_count": 14,
     "metadata": {},
     "output_type": "execute_result"
    },
    {
     "data": {
      "image/png": "[encoded data removed]",
      "text/plain": [
       "<Figure size 432x288 with 1 Axes>"
      ]
     },
     "metadata": {
      "needs_background": "light"
     },
     "output_type": "display_data"
    }
   ],
   "source": [
    "initial_w = np.zeros(tX_std.shape[1])\n",
    "max_iters = 100\n",
    "gamma = 0.01\n",
    "w_ls_SGD, losses_ls_SGD, final_loss_ls_SGD = least_squares_SGD(y, tX_std, initial_w, max_iters,\n",
    "                                         gamma)\n",
    "plt.plot(losses_ls_SGD)"
   ]
  },
  {
   "cell_type": "markdown",
   "metadata": {},
   "source": [
    "### Least Squares:\n",
    "Least squares regression using normal equations. Solve $A^TAx = A^Ty$, Ax = b → x = np.linalg.solve(A, b)"
   ]
  },
  {
   "cell_type": "code",
   "execution_count": 15,
   "metadata": {},
   "outputs": [],
   "source": [
    "def least_squares(y, tX):\n",
    "    w = np.linalg.solve(tX.T@tX,tX.T@y)\n",
    "    loss = MSE_loss(y, tX, w)\n",
    "    return w, loss"
   ]
  },
  {
   "cell_type": "code",
   "execution_count": 16,
   "metadata": {},
   "outputs": [
    {
     "data": {
      "text/plain": [
       "(array([ 2.93788277e-02, -2.52531474e-01, -2.54791125e-01, -3.03696826e-02,\n",
       "        -1.40144781e+00,  2.95701641e-01, -1.07889474e+01,  2.67880862e-01,\n",
       "        -2.44934951e-03, -3.28854694e+02, -1.82647888e-01,  1.14039627e-01,\n",
       "         2.05045969e+01,  6.38905957e+01, -3.18961844e-04, -1.80884303e-03,\n",
       "         6.29996662e+01, -4.48641741e-04,  1.54379312e-03,  1.21462700e-01,\n",
       "         3.95268515e-04, -6.33223483e-02, -2.06747091e-01, -1.16655759e-01,\n",
       "         9.86256834e-02,  1.67907660e-01, -3.35146276e-02, -2.98358672e+00,\n",
       "        -5.36388116e+00,  2.78501929e+02]),\n",
       " 0.7779046298744752)"
      ]
     },
     "execution_count": 16,
     "metadata": {},
     "output_type": "execute_result"
    }
   ],
   "source": [
    "w_ls, loss_ls = least_squares(y, tX_std)\n",
    "w_ls, loss_ls"
   ]
  },
  {
   "cell_type": "code",
   "execution_count": 17,
   "metadata": {},
   "outputs": [],
   "source": [
    "y_pred_ls = predict_labels(w_ls, tX_std)"
   ]
  },
  {
   "cell_type": "markdown",
   "metadata": {},
   "source": [
    "### Ridge Regression: \n",
    "Ridge regression using normal equations. $w^* = (X^T X+\\lambda I)^{-1}X^Ty$"
   ]
  },
  {
   "cell_type": "code",
   "execution_count": 18,
   "metadata": {},
   "outputs": [],
   "source": [
    "lambda_ = 0.02\n",
    "def ridge_regression(y, tX, lambda_):\n",
    "    w = np.linalg.solve(tX.T@tX+lambda_*np.eye(tX.shape[1]),tX.T@y)\n",
    "    loss = MSE_loss(y, tX, w)\n",
    "    return w, loss"
   ]
  },
  {
   "cell_type": "code",
   "execution_count": 19,
   "metadata": {},
   "outputs": [
    {
     "data": {
      "text/plain": [
       "(array([ 2.93666781e-02, -2.52530497e-01, -2.54823428e-01, -3.02099334e-02,\n",
       "         8.53966995e-01,  2.92033690e-01, -1.01968078e+01,  2.67887607e-01,\n",
       "        -2.52731682e-03, -3.50032924e-02, -1.82661485e-01,  1.14032110e-01,\n",
       "         1.70868417e+01,  1.98775744e-01, -3.51306513e-04, -1.76418914e-03,\n",
       "         2.94473957e-01, -4.74274957e-04,  1.59561206e-03,  1.21483014e-01,\n",
       "         4.42749327e-04, -6.32331358e-02, -2.06402058e-01, -1.13409100e-01,\n",
       "         1.05354901e-01,  1.57890918e-01, -1.44627398e-02, -2.74806187e+00,\n",
       "        -5.04492362e+00, -4.45555753e-02]),\n",
       " 0.777912229090242)"
      ]
     },
     "execution_count": 19,
     "metadata": {},
     "output_type": "execute_result"
    }
   ],
   "source": [
    "w_rr, loss_rr = ridge_regression(y, tX_std,lambda_)\n",
    "w_rr, loss_rr"
   ]
  },
  {
   "cell_type": "markdown",
   "metadata": {},
   "source": [
    "### Logistic regression: \n",
    "Logistic regression using gradient descent or SGD. \n",
    "https://github.com/SSaishruthi/LogisticRegression_Vectorized_Implementation/blob/master/Logistic_Regression.ipynb\n",
    "\n",
    "$ w^* = min_w \\sum_{i=1}^n log(1+exp(-y_i w^T x_i))$"
   ]
  },
  {
   "cell_type": "code",
   "execution_count": 20,
   "metadata": {},
   "outputs": [],
   "source": [
    "def sigmoid_activation(r):\n",
    "    final_result = 1 / (1 + np.exp(-r))\n",
    "    return final_result"
   ]
  },
  {
   "cell_type": "code",
   "execution_count": 28,
   "metadata": {},
   "outputs": [],
   "source": [
    "def logistic_regression_optimize(w, X, Y, lambda_):\n",
    "    m = X.shape[0]\n",
    "\n",
    "    #Prediction\n",
    "    final_result = sigmoid_activation(np.dot(w, X.T))\n",
    "\n",
    "    if lambda_:\n",
    "        #new loss:\n",
    "        loss = (-1 / m) * (np.sum((Y.T * np.log(final_result)) + (\n",
    "            (1 - Y.T) *\n",
    "            (np.log(1 - final_result))))) + (1 / (2 * m)) * lambda_ * (w.T @ w)\n",
    "    else:\n",
    "        loss = (-1 / m) * (np.sum((Y.T * np.log(final_result)) +\n",
    "                                  ((1 - Y.T) * (np.log(1 - final_result)))))\n",
    "    #Gradient calculation\n",
    "    if lambda_:\n",
    "        dw = (1 / m) * (np.dot(X.T,\n",
    "                               (final_result - Y.T).T)) + (1 / m) * lambda_ * w\n",
    "    else:\n",
    "        dw = (1 / m) * (np.dot(X.T, (final_result - Y.T).T))\n",
    "\n",
    "    grads = {\"dw\": dw}\n",
    "    return grads, loss"
   ]
  },
  {
   "cell_type": "code",
   "execution_count": 26,
   "metadata": {},
   "outputs": [],
   "source": [
    "def logistic_regression(y, tx, initial_w, max_iters, gamma, lambda_=None):\n",
    "    losses = []\n",
    "    w = initial_w\n",
    "    for n_iter in range(max_iters):\n",
    "        #\n",
    "        grads, loss = logistic_regression_optimize(w, tx, y, lambda_)\n",
    "        #\n",
    "        dw = grads[\"dw\"]\n",
    "        #weight update\n",
    "        w = w - (gamma * (dw.T))\n",
    "        losses.append(loss)\n",
    "        print(\"Logistic regression ({bi}/{ti}): loss={l}\".format(bi=n_iter,\n",
    "                                                                 ti=max_iters -\n",
    "                                                                 1,\n",
    "                                                                 l=loss))\n",
    "    #final parameters\n",
    "    w = {\"w\": w}\n",
    "    gradient = {\"dw\": dw}\n",
    "\n",
    "    return w, losses, losses[-1]"
   ]
  },
  {
   "cell_type": "code",
   "execution_count": 23,
   "metadata": {},
   "outputs": [
    {
     "name": "stdout",
     "output_type": "stream",
     "text": [
      "Logistic regression (0/99): loss=0.693147180559945\n",
      "Logistic regression (1/99): loss=0.6869811595195059\n",
      "Logistic regression (2/99): loss=0.6810632920240104\n",
      "Logistic regression (3/99): loss=0.6753796376964422\n",
      "Logistic regression (4/99): loss=0.6699169827435849\n",
      "Logistic regression (5/99): loss=0.6646628236445999\n",
      "Logistic regression (6/99): loss=0.6596053470753889\n",
      "Logistic regression (7/99): loss=0.6547334068922692\n",
      "Logistic regression (8/99): loss=0.6500364989123169\n",
      "Logistic regression (9/99): loss=0.6455047341394492\n",
      "Logistic regression (10/99): loss=0.6411288109981924\n",
      "Logistic regression (11/99): loss=0.6368999870536798\n",
      "Logistic regression (12/99): loss=0.6328100506185154\n",
      "Logistic regression (13/99): loss=0.6288512925759374\n",
      "Logistic regression (14/99): loss=0.6250164786847912\n",
      "Logistic regression (15/99): loss=0.6212988225754473\n",
      "Logistic regression (16/99): loss=0.6176919595967539\n",
      "Logistic regression (17/99): loss=0.6141899216321342\n",
      "Logistic regression (18/99): loss=0.6107871129674107\n",
      "Logistic regression (19/99): loss=0.6074782872633456\n",
      "Logistic regression (20/99): loss=0.604258525661508\n",
      "Logistic regression (21/99): loss=0.6011232160323451\n",
      "Logistic regression (22/99): loss=0.5980680333585613\n",
      "Logistic regression (23/99): loss=0.5950889212345585\n",
      "Logistic regression (24/99): loss=0.5921820744532378\n",
      "Logistic regression (25/99): loss=0.5893439226444019\n",
      "Logistic regression (26/99): loss=0.5865711149239555\n",
      "Logistic regression (27/99): loss=0.5838605055096932\n",
      "Logistic regression (28/99): loss=0.5812091402573762\n",
      "Logistic regression (29/99): loss=0.5786142440697953\n",
      "Logistic regression (30/99): loss=0.5760732091313302\n",
      "Logistic regression (31/99): loss=0.5735835839210146\n",
      "Logistic regression (32/99): loss=0.5711430629580846\n",
      "Logistic regression (33/99): loss=0.5687494772353532\n",
      "Logistic regression (34/99): loss=0.5664007852973846\n",
      "Logistic regression (35/99): loss=0.5640950649222467\n",
      "Logistic regression (36/99): loss=0.5618305053675607\n",
      "Logistic regression (37/99): loss=0.5596054001435599\n",
      "Logistic regression (38/99): loss=0.5574181402778893\n",
      "Logistic regression (39/99): loss=0.5552672080388956\n",
      "Logistic regression (40/99): loss=0.5531511710861183\n",
      "Logistic regression (41/99): loss=0.5510686770186378\n",
      "Logistic regression (42/99): loss=0.549018448293768\n",
      "Logistic regression (43/99): loss=0.5469992774903851\n",
      "Logistic regression (44/99): loss=0.5450100228928682\n",
      "Logistic regression (45/99): loss=0.543049604373247\n",
      "Logistic regression (46/99): loss=0.5411169995506813\n",
      "Logistic regression (47/99): loss=0.5392112402088292\n",
      "Logistic regression (48/99): loss=0.537331408953024\n",
      "Logistic regression (49/99): loss=0.535476636090444\n",
      "Logistic regression (50/99): loss=0.5336460967176514\n",
      "Logistic regression (51/99): loss=0.5318390080009866\n",
      "Logistic regression (52/99): loss=0.530054626636343\n",
      "Logistic regression (53/99): loss=0.5282922464758121\n",
      "Logistic regression (54/99): loss=0.5265511963095874\n",
      "Logistic regression (55/99): loss=0.5248308377923545\n",
      "Logistic regression (56/99): loss=0.5231305635041683\n",
      "Logistic regression (57/99): loss=0.5214497951365384\n",
      "Logistic regression (58/99): loss=0.5197879817951171\n",
      "Logistic regression (59/99): loss=0.5181445984110004\n",
      "Logistic regression (60/99): loss=0.5165191442532246\n",
      "Logistic regression (61/99): loss=0.5149111415355824\n",
      "Logistic regression (62/99): loss=0.5133201341113617\n",
      "Logistic regression (63/99): loss=0.511745686250082\n",
      "Logistic regression (64/99): loss=0.5101873814907134\n",
      "Logistic regression (65/99): loss=0.508644821566262\n",
      "Logistic regression (66/99): loss=0.5071176253949652\n",
      "Logistic regression (67/99): loss=0.5056054281336753\n",
      "Logistic regression (68/99): loss=0.5041078802893245\n",
      "Logistic regression (69/99): loss=0.5026246468846483\n",
      "Logistic regression (70/99): loss=0.5011554066746107\n",
      "Logistic regression (71/99): loss=0.4996998514102269\n",
      "Logistic regression (72/99): loss=0.49825768514670127\n",
      "Logistic regression (73/99): loss=0.4968286235930189\n",
      "Logistic regression (74/99): loss=0.4954123935003155\n",
      "Logistic regression (75/99): loss=0.49400873208654367\n",
      "Logistic regression (76/99): loss=0.4926173864951161\n",
      "Logistic regression (77/99): loss=0.4912381132853657\n",
      "Logistic regression (78/99): loss=0.48987067795280903\n",
      "Logistic regression (79/99): loss=0.4885148544773329\n",
      "Logistic regression (80/99): loss=0.48717042489755413\n",
      "Logistic regression (81/99): loss=0.4858371789097142\n",
      "Logistic regression (82/99): loss=0.4845149134895818\n",
      "Logistic regression (83/99): loss=0.4832034325359388\n",
      "Logistic regression (84/99): loss=0.48190254653431674\n",
      "Logistic regression (85/99): loss=0.4806120722397385\n",
      "Logistic regression (86/99): loss=0.479331832377302\n",
      "Logistic regression (87/99): loss=0.47806165535952094\n",
      "Logistic regression (88/99): loss=0.4768013750193999\n",
      "Logistic regression (89/99): loss=0.47555083035829865\n",
      "Logistic regression (90/99): loss=0.47430986530769115\n",
      "Logistic regression (91/99): loss=0.4730783285039873\n",
      "Logistic regression (92/99): loss=0.47185607307563737\n",
      "Logistic regression (93/99): loss=0.47064295644179005\n",
      "Logistic regression (94/99): loss=0.4694388401218153\n",
      "Logistic regression (95/99): loss=0.4682435895550564\n",
      "Logistic regression (96/99): loss=0.4670570739302065\n",
      "Logistic regression (97/99): loss=0.46587916602374746\n",
      "Logistic regression (98/99): loss=0.46470974204692334\n",
      "Logistic regression (99/99): loss=0.4635486815007507\n"
     ]
    },
    {
     "data": {
      "text/plain": [
       "[<matplotlib.lines.Line2D at 0x1203fe470>]"
      ]
     },
     "execution_count": 23,
     "metadata": {},
     "output_type": "execute_result"
    },
    {
     "data": {
      "image/png": "[encoded data removed]",
      "text/plain": [
       "<Figure size 432x288 with 1 Axes>"
      ]
     },
     "metadata": {
      "needs_background": "light"
     },
     "output_type": "display_data"
    }
   ],
   "source": [
    "initial_w = np.zeros(tX_std.shape[1])\n",
    "max_iters = 100\n",
    "gamma = 0.01\n",
    "w_lr, losses_lr, final_loss_lr = logistic_regression(y, tX_std, initial_w,\n",
    "                                                     max_iters, gamma)\n",
    "plt.plot(losses_lr)"
   ]
  },
  {
   "cell_type": "markdown",
   "metadata": {},
   "source": [
    "### Regularized logistic regression\n",
    "Regularized logistic regression using gradient descent or SGD. $ w^* = min_w \\sum_{i=1}^n log(1+exp(-y_i w^T x_i)) +\\lambda ‖w‖^2$"
   ]
  },
  {
   "cell_type": "code",
   "execution_count": 29,
   "metadata": {},
   "outputs": [
    {
     "name": "stdout",
     "output_type": "stream",
     "text": [
      "Logistic regression (0/99): loss=0.693147180559945\n",
      "Logistic regression (1/99): loss=0.6869811595219978\n",
      "Logistic regression (2/99): loss=0.681063292038558\n",
      "Logistic regression (3/99): loss=0.6753796377318434\n",
      "Logistic regression (4/99): loss=0.6699169828079382\n",
      "Logistic regression (5/99): loss=0.6646628237453639\n",
      "Logistic regression (6/99): loss=0.6596053472194402\n",
      "Logistic regression (7/99): loss=0.6547334070859536\n",
      "Logistic regression (8/99): loss=0.650036499161498\n",
      "Logistic regression (9/99): loss=0.6455047344495525\n",
      "Logistic regression (10/99): loss=0.641128811374245\n",
      "Logistic regression (11/99): loss=0.6368999875003477\n",
      "Logistic regression (12/99): loss=0.6328100511401378\n",
      "Logistic regression (13/99): loss=0.6288512931765561\n",
      "Logistic regression (14/99): loss=0.6250164793681794\n",
      "Logistic regression (15/99): loss=0.6212988233451345\n",
      "Logistic regression (16/99): loss=0.6176919604560486\n",
      "Logistic regression (17/99): loss=0.6141899225841445\n",
      "Logistic regression (18/99): loss=0.6107871140150642\n",
      "Logistic regression (19/99): loss=0.6074782884094047\n",
      "Logistic regression (20/99): loss=0.6042585269085864\n",
      "Logistic regression (21/99): loss=0.6011232173829213\n",
      "Logistic regression (22/99): loss=0.5980680348149906\n",
      "Logistic regression (23/99): loss=0.5950889227990853\n",
      "Logistic regression (24/99): loss=0.592182076128005\n",
      "Logistic regression (25/99): loss=0.5893439244314601\n",
      "Logistic regression (26/99): loss=0.5865711168252717\n",
      "Logistic regression (27/99): loss=0.5838605075271581\n",
      "Logistic regression (28/99): loss=0.5812091423928105\n",
      "Logistic regression (29/99): loss=0.5786142463249557\n",
      "Logistic regression (30/99): loss=0.5760732115079163\n",
      "Logistic regression (31/99): loss=0.5735835864206718\n",
      "Logistic regression (32/99): loss=0.5711430655824098\n",
      "Logistic regression (33/99): loss=0.5687494799858985\n",
      "Logistic regression (34/99): loss=0.5664007881756604\n",
      "Logistic regression (35/99): loss=0.564095067929726\n",
      "Logistic regression (36/99): loss=0.561830508505681\n",
      "Logistic regression (37/99): loss=0.5596054034137256\n",
      "Logistic regression (38/99): loss=0.5574181436814755\n",
      "Logistic regression (39/99): loss=0.5552672115772489\n",
      "Logistic regression (40/99): loss=0.5531511747605592\n",
      "Logistic regression (41/99): loss=0.5510686808304626\n",
      "Logistic regression (42/99): loss=0.5490184522442496\n",
      "Logistic regression (43/99): loss=0.5469992815807753\n",
      "Logistic regression (44/99): loss=0.5450100271243977\n",
      "Logistic regression (45/99): loss=0.5430496087471285\n",
      "Logistic regression (46/99): loss=0.5411170040681085\n",
      "Logistic regression (47/99): loss=0.5392112448709788\n",
      "Logistic regression (48/99): loss=0.5373314137610562\n",
      "Logistic regression (49/99): loss=0.5354766410455031\n",
      "Logistic regression (50/99): loss=0.5336461018208667\n",
      "Logistic regression (51/99): loss=0.5318390132534729\n",
      "Logistic regression (52/99): loss=0.530054632039201\n",
      "Logistic regression (53/99): loss=0.528292252030129\n",
      "Logistic regression (54/99): loss=0.5265512020164376\n",
      "Logistic regression (55/99): loss=0.5248308436527994\n",
      "Logistic regression (56/99): loss=0.523130569519257\n",
      "Logistic regression (57/99): loss=0.5214498013073076\n",
      "Logistic regression (58/99): loss=0.5197879881225923\n",
      "Logistic regression (59/99): loss=0.518144604896195\n",
      "Logistic regression (60/99): loss=0.5165191508971411\n",
      "Logistic regression (61/99): loss=0.5149111483392118\n",
      "Logistic regression (62/99): loss=0.5133201410756845\n",
      "Logistic regression (63/99): loss=0.5117456933760675\n",
      "Logistic regression (64/99): loss=0.5101873887793207\n",
      "Logistic regression (65/99): loss=0.5086448290184393\n",
      "Logistic regression (66/99): loss=0.5071176330116506\n",
      "Logistic regression (67/99): loss=0.5056054359157967\n",
      "Logistic regression (68/99): loss=0.5041078882377995\n",
      "Logistic regression (69/99): loss=0.502624655000385\n",
      "Logistic regression (70/99): loss=0.5011554149585065\n",
      "Logistic regression (71/99): loss=0.49969985986316934\n",
      "Logistic regression (72/99): loss=0.4982576937695691\n",
      "Logistic regression (73/99): loss=0.4968286323866804\n",
      "Logistic regression (74/99): loss=0.49541240246562945\n",
      "Logistic regression (75/99): loss=0.49400874122435934\n",
      "Logistic regression (76/99): loss=0.49261739580627356\n",
      "Logistic regression (77/99): loss=0.4912381227706955\n",
      "Logistic regression (78/99): loss=0.4898706876131323\n",
      "Logistic regression (79/99): loss=0.4885148643134616\n",
      "Logistic regression (80/99): loss=0.48717043491029116\n",
      "Logistic regression (81/99): loss=0.48583718909985296\n",
      "Logistic regression (82/99): loss=0.48451492385790695\n",
      "Logistic regression (83/99): loss=0.48320344308322605\n",
      "Logistic regression (84/99): loss=0.48190255726133274\n",
      "Logistic regression (85/99): loss=0.48061208314724096\n",
      "Logistic regression (86/99): loss=0.47933184346604035\n",
      "Logistic regression (87/99): loss=0.4780616666302352\n",
      "Logistic regression (88/99): loss=0.4768013864728218\n",
      "Logistic regression (89/99): loss=0.4755508419951513\n",
      "Logistic regression (90/99): loss=0.4743098771286888\n",
      "Logistic regression (91/99): loss=0.47307834050983605\n",
      "Logistic regression (92/99): loss=0.47185608526703515\n",
      "Logistic regression (93/99): loss=0.47064296881942624\n",
      "Logistic regression (94/99): loss=0.4694388526863708\n",
      "Logistic regression (95/99): loss=0.46824360230720413\n",
      "Logistic regression (96/99): loss=0.46705708687061137\n",
      "Logistic regression (97/99): loss=0.4658791791530664\n",
      "Logistic regression (98/99): loss=0.4647097553658047\n",
      "Logistic regression (99/99): loss=0.46354869500983575\n"
     ]
    },
    {
     "data": {
      "text/plain": [
       "[<matplotlib.lines.Line2D at 0x1205156d8>]"
      ]
     },
     "execution_count": 29,
     "metadata": {},
     "output_type": "execute_result"
    },
    {
     "data": {
      "image/png": "[encoded data removed]",
      "text/plain": [
       "<Figure size 432x288 with 1 Axes>"
      ]
     },
     "metadata": {
      "needs_background": "light"
     },
     "output_type": "display_data"
    }
   ],
   "source": [
    "initial_w = np.zeros(tX_std.shape[1])\n",
    "lambda_ = 0.02\n",
    "max_iters = 100\n",
    "gamma = 0.01\n",
    "w_lr, losses_lr, final_loss_lr = logistic_regression(\n",
    "    y, tX_std, initial_w, max_iters, gamma, lambda_)\n",
    "plt.plot(losses_lr)"
   ]
  },
  {
   "cell_type": "markdown",
   "metadata": {},
   "source": [
    "## Generate predictions and save ouput in csv format for submission:"
   ]
  },
  {
   "cell_type": "code",
   "execution_count": null,
   "metadata": {},
   "outputs": [],
   "source": [
    "DATA_TEST_PATH = '../data/test.csv' # TODO: download test data and supply path here \n",
    "_, tX_test, ids_test = load_csv_data(DATA_TEST_PATH)\n",
    "print(f'test data shape: X {tX_test.shape}')"
   ]
  },
  {
   "cell_type": "code",
   "execution_count": null,
   "metadata": {},
   "outputs": [],
   "source": [
    "# standardiser par rapport à la moyenne/std de train? \n",
    "# standard normal: \n",
    "#tX_test_std = standardize(tX_test)\n",
    "\n",
    "# standard par rapport à moyenne et std de train: \n",
    "mean_train = np.mean(tX, axis=0)\n",
    "std_train = np.std(tX - mean_train, axis=0)\n",
    "tX_test_std = standardize_with_meanstd(tX_test, mean_train, std_train)"
   ]
  },
  {
   "cell_type": "code",
   "execution_count": null,
   "metadata": {},
   "outputs": [],
   "source": []
  },
  {
   "cell_type": "code",
   "execution_count": null,
   "metadata": {},
   "outputs": [],
   "source": [
    "OUTPUT_PATH = '../data/results/' # TODO: fill in desired name of output file for submission\n",
    "y_pred = predict_labels(weights, tX_test)\n",
    "create_csv_submission(ids_test, y_pred, OUTPUT_PATH)"
   ]
  },
  {
   "cell_type": "code",
   "execution_count": null,
   "metadata": {},
   "outputs": [],
   "source": []
  }
 ],
 "metadata": {
  "kernelspec": {
   "display_name": "ML",
   "language": "python",
   "name": "ml"
  },
  "language_info": {
   "codemirror_mode": {
    "name": "ipython",
    "version": 3
   },
   "file_extension": ".py",
   "mimetype": "text/x-python",
   "name": "python",
   "nbconvert_exporter": "python",
   "pygments_lexer": "ipython3",
   "version": "3.7.3"
  },
  "toc": {
   "base_numbering": 1,
   "nav_menu": {},
   "number_sections": true,
   "sideBar": true,
   "skip_h1_title": false,
   "title_cell": "Table of Contents",
   "title_sidebar": "Contents",
   "toc_cell": false,
   "toc_position": {},
   "toc_section_display": true,
   "toc_window_display": false
  }
 },
 "nbformat": 4,
 "nbformat_minor": 4
}
