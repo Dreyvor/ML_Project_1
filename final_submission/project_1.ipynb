{
 "cells": [
  {
   "cell_type": "markdown",
   "metadata": {},
   "source": [
    "## Setting up: "
   ]
  },
  {
   "cell_type": "code",
   "execution_count": 2,
   "metadata": {},
   "outputs": [],
   "source": [
    "# Useful starting lines\n",
    "%matplotlib inline\n",
    "import numpy as np\n",
    "import matplotlib.pyplot as plt\n",
    "\n",
    "from tqdm import tqdm\n",
    "import datetime\n",
    "# importing the module\n",
    "import json\n",
    "import os\n",
    "\n",
    "%load_ext autoreload\n",
    "%autoreload 2\n",
    "\n",
    "#additional functions:\n",
    "from datetime import date\n",
    "from helper_functions.helper_functions import *\n",
    "from helper_functions.ml_methods_labs import *\n",
    "from helper_functions.losses import *\n",
    "from implementations import *\n",
    "\n",
    "import warnings\n",
    "warnings.filterwarnings('ignore')"
   ]
  },
  {
   "cell_type": "markdown",
   "metadata": {},
   "source": [
    "### Load Data: \n",
    "\n",
    "- train.csv - Training set of 250000 events. The file starts with the ID column, then the label column (the y you have to predict), and finally 30 feature columns.\n",
    "- test.csv - The test set of around 568238 events - Everything as above, except the label is missing.\n",
    "- sample-submission.csv - a sample submission file in the correct format. The sample submission always predicts -1, that is ‘background’.\n",
    "\n",
    "**Note:**\n",
    "- all variables are floating point, except PRI_jet_num which is integer\n",
    "- variables prefixed with PRI (for PRImitives) are “raw” quantities about the bunch collision as measured by the detector.\n",
    "- variables prefixed with DER (for DERived) are quantities computed from the primitive features, which were selected by the physicists of ATLAS.\n",
    "- it can happen that for some entries some variables are meaningless or cannot be computed; in this case, their value is −999.0, which is outside the normal range of all variables."
   ]
  },
  {
   "cell_type": "code",
   "execution_count": 194,
   "metadata": {},
   "outputs": [
    {
     "name": "stdout",
     "output_type": "stream",
     "text": [
      "training data shape: y (250000,), X (250000, 30)\n"
     ]
    }
   ],
   "source": [
    "DATA_TRAIN_PATH = 'data/train.csv'\n",
    "y, tX, ids = load_csv_data(DATA_TRAIN_PATH)\n",
    "print(f'training data shape: y {y.shape}, X {tX.shape}')"
   ]
  },
  {
   "cell_type": "code",
   "execution_count": 195,
   "metadata": {},
   "outputs": [
    {
     "name": "stdout",
     "output_type": "stream",
     "text": [
      "test data shape: X (568238, 30)\n"
     ]
    }
   ],
   "source": [
    "DATA_TEST_PATH = 'data/test.csv' # TODO: download test data and supply path here \n",
    "_, tX_test, ids_test = load_csv_data(DATA_TEST_PATH)\n",
    "print(f'test data shape: X {tX_test.shape}')"
   ]
  },
  {
   "cell_type": "code",
   "execution_count": 196,
   "metadata": {},
   "outputs": [
    {
     "data": {
      "text/plain": [
       "(250000,)"
      ]
     },
     "execution_count": 196,
     "metadata": {},
     "output_type": "execute_result"
    }
   ],
   "source": [
    "### Encoding of y: \n",
    "y_enc = (y+1)/2\n",
    "y = y_enc\n",
    "y.shape"
   ]
  },
  {
   "cell_type": "code",
   "execution_count": 197,
   "metadata": {},
   "outputs": [],
   "source": [
    "def pre_processing(tx_test, tx, y_):\n",
    "    tX_test, tX, y = tx_test.copy(), tx.copy(), y_.copy()\n",
    "    invalid_identifier = -999\n",
    "    #delta = 1.5\n",
    "    POLY=3\n",
    "    tX_invalid, medians = replace_invalid_values(tX,\n",
    "                                              invalid_identifier,mean=False)\n",
    "    #tX_invalid = replace(tX, invalid_identifier)\n",
    "    \n",
    "    \n",
    "    #tX_filtered, medians = replace_outlayers_values(tX_invalid, delta, mean = False)\n",
    "    tX_filtered, y_filtered = remove_outliers(tX_invalid, y)\n",
    "     \n",
    "    \n",
    "    # polynonmial expansion:\n",
    "    tX_pol = poly_feats(tX_filtered, POLY)\n",
    "    \n",
    "    # standardize:\n",
    "    tX_std = standardize(tX_pol)   \n",
    "    \n",
    "    ## test:\n",
    "    tX_test_invalid, medians = replace_invalid_values(tX_test,\n",
    "                                                  invalid_identifier,\n",
    "                                                  mean=False)\n",
    "            \n",
    "    #tX_test_invalid = replace(tX_test, invalid_identifier)\n",
    "    tX_test_filtered, medians = replace_outlayers_values(tX_test_invalid,\n",
    "                                                     delta,\n",
    "                                                     mean=False)\n",
    "    \n",
    "\n",
    "    poly_X_test = poly_feats(tX_test_invalid, POLY)\n",
    "    \n",
    "    mean_train = np.mean(tX_pol[:,1:], axis=0)\n",
    "    std_train = np.std(tX_pol[:,1:] - mean_train, axis=0)\n",
    "    tX_test_std = standardize_with_mean_std(poly_X_test, mean_train, std_train)\n",
    "    \n",
    "\n",
    "    return tX_std, tX_test_std, y_filtered"
   ]
  },
  {
   "cell_type": "code",
   "execution_count": 198,
   "metadata": {},
   "outputs": [],
   "source": [
    "tX_std, tX_test_std, y = pre_processing(tX_test, tX, y)"
   ]
  },
  {
   "cell_type": "code",
   "execution_count": null,
   "metadata": {},
   "outputs": [],
   "source": [
    "data_ind = [\n",
    "    'DER_mass_MMC', 'DER_mass_transverse_met_lep', 'DER_mass_vis', 'DER_pt_h',\n",
    "    'DER_deltaeta_jet_jet', 'DER_mass_jet_jet', 'DER_prodeta_jet_jet',\n",
    "    'DER_deltar_tau_lep', 'DER_pt_tot', 'DER_sum_pt', 'DER_pt_ratio_lep_tau',\n",
    "    'DER_met_phi_centrality', 'DER_lep_eta_centrality', 'PRI_tau_pt',\n",
    "    'PRI_tau_eta', 'PRI_tau_phi', 'PRI_lep_pt', 'PRI_lep_eta', 'PRI_lep_phi',\n",
    "    'PRI_met', 'PRI_met_phi', 'PRI_met_sumet', 'PRI_jet_num',\n",
    "    'PRI_jet_leading_pt', 'PRI_jet_leading_eta', 'PRI_jet_leading_phi',\n",
    "    'PRI_jet_subleading_pt', 'PRI_jet_subleading_eta',\n",
    "    'PRI_jet_subleading_phi', 'PRI_jet_all_pt'\n",
    "]"
   ]
  },
  {
   "cell_type": "markdown",
   "metadata": {},
   "source": [
    "Plot histogram of raw data:"
   ]
  },
  {
   "cell_type": "code",
   "execution_count": null,
   "metadata": {},
   "outputs": [],
   "source": [
    "def plot_hist(tX, medians=None, with_med = False):\n",
    "    fig, axs = plt.subplots(5, 6, figsize=(20, 20))\n",
    "    m = 0\n",
    "    for i in range(6):\n",
    "        for j in range(5):\n",
    "            bins = np.linspace(np.min(tX[:, m]), np.max(tX[:, m]), 50)\n",
    "            axs[j, i].hist(tX[:, m], bins = bins)\n",
    "            if with_med:\n",
    "                axs[j, i].axvline(medians[m], color='r', label = 'median')\n",
    "            axs[j, i].set_title(data_ind[m])\n",
    "            m += 1\n",
    "    plt.suptitle('Histograms of raw data:', fontsize=14)\n",
    "    fig.show()"
   ]
  },
  {
   "cell_type": "code",
   "execution_count": 112,
   "metadata": {},
   "outputs": [],
   "source": [
    "def remove_outliers(tX,y):\n",
    "    Q1 = np.quantile(tX,0.00,axis = 0)\n",
    "    Q3 = np.quantile(tX,0.85, axis = 0)\n",
    "    IQR = Q3 - Q1\n",
    "    tX_no_outliers = tX[~((tX < (Q1 - 1.5 * IQR)) |(tX > (Q3 + 1.5 * IQR))).any(axis=1)]\n",
    "    y_no_outliers = y[~((tX < (Q1 - 1.5 * IQR)) |(tX > (Q3 + 1.5 * IQR))).any(axis=1)]\n",
    "    return tX_no_outliers, y_no_outliers"
   ]
  },
  {
   "cell_type": "markdown",
   "metadata": {},
   "source": [
    "### Pre-processing:"
   ]
  },
  {
   "cell_type": "code",
   "execution_count": 147,
   "metadata": {},
   "outputs": [],
   "source": [
    "def replace(tx, value):\n",
    "    \"\"\"\n",
    "    Replaces invalid values with the mean of all the values in the cooresponding feature \n",
    "\n",
    "    :param tX: features\n",
    "    :param value: value to replace\n",
    "    :return tX: tX with replaced values\n",
    "    \"\"\"\n",
    "    for i in range(tx.shape[1]):\n",
    "        data = tx[:, i].copy()\n",
    "        np.delete(data, np.where(data == value)) \n",
    "        if(np.median(data) == -999):\n",
    "            data_median = 0  \n",
    "        else :\n",
    "            data_median = np.median(data)\n",
    "        tx[tx[:, i] == value,i] = data_median  \n",
    "    return tx"
   ]
  },
  {
   "cell_type": "markdown",
   "metadata": {},
   "source": [
    "#### Invalid values:\n",
    "Histogram after replacing -999 values:"
   ]
  },
  {
   "cell_type": "code",
   "execution_count": null,
   "metadata": {},
   "outputs": [],
   "source": [
    "invalid_identifier = -999\n",
    "tX_invalid, medians = replace_invalid_values(tX,\n",
    "                                              invalid_identifier,\n",
    "                                              mean=False)"
   ]
  },
  {
   "cell_type": "markdown",
   "metadata": {},
   "source": [
    "#### Outliers: "
   ]
  },
  {
   "cell_type": "code",
   "execution_count": null,
   "metadata": {},
   "outputs": [],
   "source": [
    "delta = 1.5\n",
    "tX_filtered, medians = replace_outlayers_values(tX_invalid, delta, mean = False)"
   ]
  },
  {
   "cell_type": "markdown",
   "metadata": {},
   "source": [
    "#### Choose data: "
   ]
  },
  {
   "cell_type": "code",
   "execution_count": null,
   "metadata": {},
   "outputs": [],
   "source": [
    "tX = tX_filtered    "
   ]
  },
  {
   "cell_type": "code",
   "execution_count": null,
   "metadata": {},
   "outputs": [],
   "source": [
    "# polynonmial expansion:\n",
    "POLY = 2\n",
    "tX_pol = poly_feats(tX, POLY)\n",
    "\n",
    "# standardize:\n",
    "tX_std = standardize(tX_pol)"
   ]
  },
  {
   "cell_type": "code",
   "execution_count": null,
   "metadata": {},
   "outputs": [],
   "source": [
    "tX_std.shape"
   ]
  },
  {
   "cell_type": "markdown",
   "metadata": {},
   "source": [
    "## Implement ML methods:\n",
    "\n",
    "You should take care of the following:\n",
    "- Return type: Note that all functions should return: (w, loss), which is the last weight vector of the method, and the corresponding loss value (cost function). Note that while in previous labs you might have kept track of all encountered w for iterative methods, here we only want the last one.\n",
    "- File names: Please provide all function implementations in a single python file, called implementations.py.\n",
    "- All code should be easily readable and commented.\n",
    "- Note that we might automatically call your provided methods and evaluate for correct implementation"
   ]
  },
  {
   "cell_type": "markdown",
   "metadata": {},
   "source": [
    "### Cross validation:\n",
    "Create cross validation method in order to evaluate the loss better. "
   ]
  },
  {
   "cell_type": "markdown",
   "metadata": {},
   "source": [
    "Different models that will be trainable:"
   ]
  },
  {
   "cell_type": "code",
   "execution_count": 13,
   "metadata": {},
   "outputs": [],
   "source": [
    "models = {\n",
    "    'LS_GD': 'Least squares with GD',\n",
    "    'LS_SGD': 'Least squares with SGD',\n",
    "    'LS_normal': 'Least squares with normal equations',\n",
    "    'RR_normal': 'Ridge regression with normal equations',\n",
    "    'LR': 'Logistic regression with GD'\n",
    "}"
   ]
  },
  {
   "cell_type": "markdown",
   "metadata": {},
   "source": [
    "Default json parameters for training, for special parameters take other file or create your own dictionary: "
   ]
  },
  {
   "cell_type": "code",
   "execution_count": 14,
   "metadata": {},
   "outputs": [],
   "source": [
    "with open('data/parameters.json') as json_file:\n",
    "    parameters = json.load(json_file)"
   ]
  },
  {
   "cell_type": "markdown",
   "metadata": {},
   "source": [
    "### Least Squares GD:"
   ]
  },
  {
   "cell_type": "code",
   "execution_count": 211,
   "metadata": {},
   "outputs": [
    {
     "name": "stdout",
     "output_type": "stream",
     "text": [
      "Least squares with GD starting with: \n",
      "Initial_w: [0. 0. 0. 0. 0. 0. 0. 0. 0. 0. 0. 0. 0. 0. 0. 0. 0. 0. 0. 0. 0. 0. 0. 0.\n",
      " 0. 0. 0. 0. 0. 0. 0. 0. 0. 0. 0. 0. 0. 0. 0. 0. 0. 0. 0. 0. 0. 0. 0. 0.\n",
      " 0. 0. 0. 0. 0. 0. 0. 0. 0. 0. 0. 0. 0. 0. 0. 0. 0. 0. 0. 0. 0. 0. 0. 0.\n",
      " 0. 0. 0. 0. 0. 0. 0. 0. 0. 0. 0. 0. 0. 0. 0. 0. 0. 0. 0.],\n",
      "Parameters:{'lambda_': 0.0, 'lr': 0.01, 'max_iters': 100, 'K': 5, 'poly': 2}\n",
      "------------------\n",
      "START TRAINING:\n",
      "Data shape:(215311, 91)\n",
      "K = 1\n",
      "Final loss:0.1801\n",
      "Final accuracy:48.2281%\n",
      "------------------\n",
      "K = 2\n",
      "Final loss:0.1765\n",
      "Final accuracy:47.9355%\n",
      "------------------\n",
      "K = 3\n",
      "Final loss:0.1746\n",
      "Final accuracy:47.3782%\n",
      "------------------\n",
      "K = 4\n",
      "Final loss:0.1749\n",
      "Final accuracy:47.4943%\n",
      "------------------\n",
      "K = 5\n",
      "Final loss:0.1744\n",
      "Final accuracy:47.5895%\n",
      "------------------\n",
      "Average loss: 0.18\n",
      "Average accuracy: 47.73%\n",
      "Best loyy:0.17439678716181176\n",
      "Best accuracy:47.58952208443639\n",
      "------------------\n",
      "Loss evolution:\n"
     ]
    },
    {
     "data": {
      "image/png": "[encoded data removed]",
      "text/plain": [
       "<Figure size 720x360 with 2 Axes>"
      ]
     },
     "metadata": {
      "needs_background": "light"
     },
     "output_type": "display_data"
    }
   ],
   "source": [
    "## Least squares GD: \n",
    "best_w, avg_loss = least_squares_GD(y=y,\n",
    "                                 tX=tX_std,\n",
    "                                 initial_w=np.zeros(tX.shape[1] *3 + 1),\n",
    "                                 max_iters=100,\n",
    "                                 gamma=0.01)"
   ]
  },
  {
   "cell_type": "markdown",
   "metadata": {},
   "source": [
    "### Least Squares SGD:\n"
   ]
  },
  {
   "cell_type": "code",
   "execution_count": 212,
   "metadata": {},
   "outputs": [
    {
     "name": "stdout",
     "output_type": "stream",
     "text": [
      "Least squares with SGD starting with: \n",
      "Initial_w: [0. 0. 0. 0. 0. 0. 0. 0. 0. 0. 0. 0. 0. 0. 0. 0. 0. 0. 0. 0. 0. 0. 0. 0.\n",
      " 0. 0. 0. 0. 0. 0. 0. 0. 0. 0. 0. 0. 0. 0. 0. 0. 0. 0. 0. 0. 0. 0. 0. 0.\n",
      " 0. 0. 0. 0. 0. 0. 0. 0. 0. 0. 0. 0. 0. 0. 0. 0. 0. 0. 0. 0. 0. 0. 0. 0.\n",
      " 0. 0. 0. 0. 0. 0. 0. 0. 0. 0. 0. 0. 0. 0. 0. 0. 0. 0. 0.],\n",
      "Parameters:{'lambda_': 0.0, 'lr': 0.01, 'max_iters': 100, 'K': 5, 'batch_size': 1, 'poly': 2}\n",
      "------------------\n",
      "START TRAINING:\n",
      "Data shape:(215311, 91)\n",
      "K = 1\n",
      "Final loss:1.2181\n",
      "Final accuracy:51.4166%\n",
      "------------------\n",
      "K = 2\n",
      "Final loss:0.4163\n",
      "Final accuracy:43.3120%\n",
      "------------------\n",
      "K = 3\n",
      "Final loss:0.3771\n",
      "Final accuracy:46.7373%\n",
      "------------------\n",
      "K = 4\n",
      "Final loss:1.6991\n",
      "Final accuracy:59.4167%\n",
      "------------------\n",
      "K = 5\n",
      "Final loss:0.3379\n",
      "Final accuracy:54.9115%\n",
      "------------------\n",
      "Average loss: 0.81\n",
      "Average accuracy: 51.16%\n",
      "Best loyy:0.33789872896047335\n",
      "Best accuracy:54.91152292044029\n",
      "------------------\n",
      "Loss evolution:\n"
     ]
    },
    {
     "data": {
      "image/png": "[encoded data removed]",
      "text/plain": [
       "<Figure size 720x360 with 2 Axes>"
      ]
     },
     "metadata": {
      "needs_background": "light"
     },
     "output_type": "display_data"
    }
   ],
   "source": [
    "best_w, avg_loss = least_squares_SGD(y=y,\n",
    "                                 tX=tX_std,\n",
    "                                 initial_w=np.zeros(tX.shape[1] * 3 + 1),\n",
    "                                 max_iters=100,\n",
    "                                 gamma=0.01)"
   ]
  },
  {
   "cell_type": "markdown",
   "metadata": {},
   "source": [
    "### Least Squares:\n",
    "Least squares regression using normal equations. Solve $A^TAx = A^Ty$, Ax = b → x = np.linalg.solve(A, b)"
   ]
  },
  {
   "cell_type": "code",
   "execution_count": null,
   "metadata": {},
   "outputs": [
    {
     "name": "stdout",
     "output_type": "stream",
     "text": [
      "Least squares with normal equations starting with: \n",
      "Initial_w: [0. 0. 0. 0. 0. 0. 0. 0. 0. 0. 0. 0. 0. 0. 0. 0. 0. 0. 0. 0. 0. 0. 0. 0.\n",
      " 0. 0. 0. 0. 0. 0. 0. 0. 0. 0. 0. 0. 0. 0. 0. 0. 0. 0. 0. 0. 0. 0. 0. 0.\n",
      " 0. 0. 0. 0. 0. 0. 0. 0. 0. 0. 0. 0. 0. 0. 0. 0. 0. 0. 0. 0. 0. 0. 0. 0.\n",
      " 0. 0. 0. 0. 0. 0. 0. 0. 0. 0. 0. 0. 0. 0. 0. 0. 0. 0. 0. 0. 0. 0. 0. 0.\n",
      " 0. 0. 0. 0. 0. 0. 0. 0. 0. 0. 0. 0. 0. 0. 0. 0. 0. 0. 0. 0. 0. 0. 0. 0.\n",
      " 0. 0. 0. 0. 0. 0. 0. 0. 0. 0. 0. 0. 0. 0. 0. 0. 0. 0. 0. 0. 0. 0. 0. 0.\n",
      " 0. 0. 0. 0. 0. 0. 0. 0. 0. 0. 0. 0. 0. 0. 0. 0. 0. 0. 0. 0. 0. 0. 0. 0.\n",
      " 0. 0. 0. 0. 0. 0. 0. 0. 0. 0. 0. 0. 0. 0. 0.],\n",
      "Parameters:{'max_iters': 1, 'K': 5, 'poly': 2}\n",
      "------------------\n",
      "START TRAINING:\n",
      "Data shape:(215311, 91)\n",
      "K = 1\n",
      "Final loss:0.1490\n",
      "Final accuracy:42.9706%\n",
      "------------------\n",
      "K = 2\n",
      "Final loss:0.1471\n",
      "Final accuracy:42.4620%\n",
      "------------------\n",
      "K = 3\n",
      "Final loss:0.1465\n",
      "Final accuracy:42.2414%\n",
      "------------------\n",
      "K = 4\n"
     ]
    }
   ],
   "source": [
    "# Test of LS_normal:\n",
    "best_w, avg_loss = least_squares(y=y,\n",
    "                                 tX=tX_std)"
   ]
  },
  {
   "cell_type": "markdown",
   "metadata": {},
   "source": [
    "### Ridge Regression: \n",
    "Ridge regression using normal equations. $w^* = (X^T X+\\lambda I)^{-1}X^Ty$"
   ]
  },
  {
   "cell_type": "code",
   "execution_count": null,
   "metadata": {},
   "outputs": [],
   "source": [
    "# Test of RR_normal:\n",
    "best_w, avg_loss = ridge_regression(y = y, tX = tX_std, lambda_ = 0.02)"
   ]
  },
  {
   "cell_type": "markdown",
   "metadata": {},
   "source": [
    "### Logistic (regularized) regression: \n",
    "Logistic regression using gradient descent or SGD. \n",
    "https://github.com/SSaishruthi/LogisticRegression_Vectorized_Implementation/blob/master/Logistic_Regression.ipynb\n",
    "\n",
    "https://machinelearningmedium.com/2017/09/15/regularized-logistic-regression/\n",
    "\n",
    "- cost : $J(w) = -1/m (-y^T log (h)-(1-y)^T log (1-h)) + \\lambda/(2m)||w||^2 ; h = sigmoid(Xw)$\n",
    "\n",
    "Regularized logistic regression using gradient descent or SGD. $ w^* = min_w \\sum_{i=1}^n log(1+exp(-y_i w^T x_i)) +\\lambda ‖w‖^2$"
   ]
  },
  {
   "cell_type": "code",
   "execution_count": null,
   "metadata": {},
   "outputs": [],
   "source": [
    "# Test of logistic regularized regression:\n",
    "best_w, avg_loss = logistic_regression(y, tX_std, np.zeros(tX.shape[1]*3+1),\n",
    "                                    max_iters = 100, gamma = 0.01)"
   ]
  },
  {
   "cell_type": "code",
   "execution_count": null,
   "metadata": {},
   "outputs": [],
   "source": [
    "# Test of logistic regularized regression:\n",
    "best_w, avg_loss = reg_logistic_regression(y, tX_std, lambda_ = 0.02, initial_w = np.zeros(tX.shape[1]*3+1),\n",
    "                                    max_iters = 100, gamma = 0.01)"
   ]
  },
  {
   "cell_type": "markdown",
   "metadata": {},
   "source": [
    "## Hyperparameters Tuning"
   ]
  },
  {
   "cell_type": "markdown",
   "metadata": {},
   "source": [
    "### Randomized Grid search\n",
    "[Cross-Validation and Hyperparameter Tuning: How to Optimise your Machine Learning Model](https://towardsdatascience.com/cross-validation-and-hyperparameter-tuning-how-to-optimise-your-machine-learning-model-13f005af9d7d)"
   ]
  },
  {
   "cell_type": "code",
   "execution_count": null,
   "metadata": {},
   "outputs": [],
   "source": [
    "def randomized_grid_search(model,\n",
    "                           tX,\n",
    "                           y,\n",
    "                           initial_w,\n",
    "                           parameters_lists,\n",
    "                           nb_rnd_test,\n",
    "                           verbose=False):\n",
    "    '''\n",
    "    randomized_grid_search: Search the best parameters with the model among\n",
    "    a list of value for each parameter.\n",
    "    @input:\n",
    "    - string model: 'LS_GD', 'LS_SGD', 'LS_normal', 'RR_normal' or 'LR'\n",
    "    - np.array(N,m) tX: features\n",
    "    - np.array(N,) y: labels\n",
    "    - np.array(m,) initial_w: starting weights for GD and SGD\n",
    "    - dictionary parameters_lists: A dictionary of lists of values for the parameters\n",
    "        required for training (lr, lambda, etc)\n",
    "    - int nb_rnd_test: number of random test to do before giving the best results it found.\n",
    "    @output\n",
    "    - double avg_loss: average loss over validation sets during cross-val\n",
    "    - np.array(m,) best_w: weights that got the smallest loss during cross-val\n",
    "    - dictionary new_params: hyper-parameters with smallest generalization error\n",
    "    - int nb_rnd_test: same as the input\n",
    "    '''\n",
    "    results = []\n",
    "    for i in tqdm(range(nb_rnd_test)):\n",
    "        new_params = {}\n",
    "\n",
    "        # Select a random combinations of parameters\n",
    "        for k, v in parameters_lists[model].items():\n",
    "            new_params[k] = np.random.choice(v)\n",
    "\n",
    "        param_to_test_with = {model: new_params.copy()}\n",
    "\n",
    "        # Train the model and store the results\n",
    "        best_w, avg_loss = train_model(tX, y, model, initial_w,\n",
    "                                       param_to_test_with, verbose)\n",
    "        results.append((avg_loss, best_w, param_to_test_with))\n",
    "\n",
    "    # Return the parameters with the smaller loss\n",
    "    return sorted(results, key=lambda e: e[0])[0], nb_rnd_test"
   ]
  },
  {
   "cell_type": "markdown",
   "metadata": {},
   "source": [
    "#### Tuning"
   ]
  },
  {
   "cell_type": "markdown",
   "metadata": {},
   "source": [
    "##### Generate parameters posibilities (modify these as you want to)"
   ]
  },
  {
   "cell_type": "code",
   "execution_count": null,
   "metadata": {},
   "outputs": [],
   "source": [
    "# Generate parameters (adapt these as you want to) depending on the one we need for the given model\n",
    "rnd_grid_search_params = {\n",
    "    'LR': {\n",
    "        'lambda_': [x for x in np.linspace(0.01, 0.21, 100)],\n",
    "        'lr': [x for x in np.linspace(0.01, 0.21, 100)],\n",
    "        'max_iters': [int(x) for x in np.linspace(10, 200, 20)],\n",
    "        'K': [int(i) for i in np.linspace(1, 10, 10)],\n",
    "        'poly': [i for i in range(1, 5)]\n",
    "    },\n",
    "    'LS_GD': {\n",
    "        'lr': [x for x in np.linspace(0.01, 0.21, 100)],\n",
    "        'max_iters': [int(x) for x in np.linspace(10, 200, 20)],\n",
    "        'K': [int(i) for i in np.linspace(1, 10, 10)],\n",
    "        'poly': [i for i in range(1, 5)]\n",
    "    },\n",
    "    'LS_SGD': {\n",
    "        'lr': [x for x in np.linspace(0.01, 0.21, 100)],\n",
    "        'max_iters': [int(x) for x in np.linspace(10, 200, 20)],\n",
    "        'K': [int(i) for i in np.linspace(1, 10, 10)],\n",
    "        'poly': [i for i in range(1, 5)],\n",
    "        'batch_size': [1]\n",
    "    },\n",
    "    'LS_normal': {\n",
    "        'max_iters': [1],\n",
    "        'K': [int(i) for i in np.linspace(1, 10, 10)],\n",
    "        'poly': [i for i in range(1, 5)]\n",
    "    },\n",
    "    'RR_normal': {\n",
    "        'max_iters': [1],\n",
    "        'K': [int(i) for i in np.linspace(1, 10, 10)],\n",
    "        'lambda_': [x for x in np.linspace(0.01, 0.21, 100)],\n",
    "        'poly': [i for i in range(1, 5)]\n",
    "    }\n",
    "}"
   ]
  },
  {
   "cell_type": "code",
   "execution_count": null,
   "metadata": {},
   "outputs": [],
   "source": [
    "experiments = 25\n",
    "with open('parameters.json') as json_file:\n",
    "    parameters = json.load(json_file)\n",
    "    \n",
    "model = 'LR'\n",
    "results = []\n",
    "for i in tqdm(range(experiments)):\n",
    "    \n",
    "    # sample from a Uniform distribution on a log-scale\n",
    "    # Sample learning rate candidates in the range (0.3 to 0.03)\n",
    "    lr = 3*10**np.random.uniform(-1,-2) \n",
    "    # Sample regularization candidates in the range (0.1 to 0.001)\n",
    "    lambda_ = 10**np.random.uniform(-1,-3) \n",
    "    parameters[model]['lr'] = lr\n",
    "    parameters[model]['lambda_'] = lambda_\n",
    "\n",
    "    best_w, avg_loss = train_model(tX=tX,\n",
    "                               model=model,\n",
    "                               y=y,\n",
    "                               initial_w=None,\n",
    "                               param=parameters, verbose = False)\n",
    "    results.append((avg_loss, best_w, parameters[model]))\n",
    "sorted(results, key=lambda e: e[0])[0]   "
   ]
  },
  {
   "cell_type": "code",
   "execution_count": null,
   "metadata": {},
   "outputs": [],
   "source": [
    "from datetime import datetime\n",
    "\n",
    "\n",
    "def search_and_save_params(model,\n",
    "                           tX,\n",
    "                           y,\n",
    "                           initial_w,\n",
    "                           parameters_lists,\n",
    "                           nb_rnd_test,\n",
    "                           verbose=False):\n",
    "    \n",
    "    result = randomized_grid_search(model,\n",
    "                                    tX,\n",
    "                                    y,\n",
    "                                    initial_w,\n",
    "                                    parameters_lists,\n",
    "                                    nb_rnd_test,\n",
    "                                    verbose=False)\n",
    "    \n",
    "    now = datetime.now().strftime('%m(month)-%d_%Hh%Mm%Ss')\n",
    "    model = list(result[0][2].keys())[0]\n",
    "\n",
    "    OUTPUT_PATH = '../data/results/param_tuning_' + model + '_' + str(\n",
    "        now) + '.txt'\n",
    "\n",
    "    data = str('avg_loss:{}\\nparameters:{}\\nnb_rnd_try:{}\\nw:{}'.format(\n",
    "        result[0][0], result[0][2], result[1], result[0][1]))\n",
    "\n",
    "    with open(OUTPUT_PATH, 'w') as output:\n",
    "        output.write(str(data))\n",
    "\n",
    "##################################################################\n",
    "# /!\\ If this fail, create a directory named 'results' in 'data' #\n",
    "##################################################################"
   ]
  },
  {
   "cell_type": "code",
   "execution_count": null,
   "metadata": {},
   "outputs": [],
   "source": [
    "search_and_save_params(model='LS_normal',\n",
    "                       tX=tX,\n",
    "                       y=y,\n",
    "                       initial_w=None,\n",
    "                       parameters_lists=rnd_grid_search_params,\n",
    "                       nb_rnd_test=50,\n",
    "                       verbose=False)"
   ]
  },
  {
   "cell_type": "markdown",
   "metadata": {},
   "source": [
    "## Training with special parameters: \n",
    "\n",
    "For other parameters than in the default, change json or create a new dict."
   ]
  },
  {
   "cell_type": "code",
   "execution_count": 206,
   "metadata": {
    "run_control": {
     "marked": false
    },
    "scrolled": false
   },
   "outputs": [
    {
     "name": "stdout",
     "output_type": "stream",
     "text": [
      "Logistic regression with GD starting with: \n",
      "Initial_w: [0. 0. 0. 0. 0. 0. 0. 0. 0. 0. 0. 0. 0. 0. 0. 0. 0. 0. 0. 0. 0. 0. 0. 0.\n",
      " 0. 0. 0. 0. 0. 0. 0. 0. 0. 0. 0. 0. 0. 0. 0. 0. 0. 0. 0. 0. 0. 0. 0. 0.\n",
      " 0. 0. 0. 0. 0. 0. 0. 0. 0. 0. 0. 0. 0. 0. 0. 0. 0. 0. 0. 0. 0. 0. 0. 0.\n",
      " 0. 0. 0. 0. 0. 0. 0. 0. 0. 0. 0. 0. 0. 0. 0. 0. 0. 0. 0.],\n",
      "Parameters:{'lambda_': 0.0, 'lr': 0.8, 'max_iters': 400, 'K': 5, 'poly': 3}\n",
      "------------------\n",
      "START TRAINING:\n",
      "Data shape:(215311, 91)\n",
      "K = 1\n",
      "Final loss:0.4291\n",
      "Final accuracy:80.3144%\n",
      "------------------\n",
      "K = 2\n",
      "Final loss:0.4257\n",
      "Final accuracy:80.4631%\n",
      "------------------\n",
      "K = 3\n",
      "Final loss:0.4218\n",
      "Final accuracy:80.5234%\n",
      "------------------\n",
      "K = 4\n",
      "Final loss:0.4208\n",
      "Final accuracy:80.9623%\n",
      "------------------\n",
      "K = 5\n",
      "Final loss:0.4215\n",
      "Final accuracy:80.9252%\n",
      "------------------\n",
      "Average loss: 0.42\n",
      "Average accuracy: 80.64%\n",
      "Best loyy:0.4208483592863127\n",
      "Best accuracy:80.962333379778\n",
      "------------------\n",
      "Loss evolution:\n"
     ]
    },
    {
     "data": {
      "image/png": "[encoded data removed]",
      "text/plain": [
       "<Figure size 720x360 with 2 Axes>"
      ]
     },
     "metadata": {
      "needs_background": "light"
     },
     "output_type": "display_data"
    }
   ],
   "source": [
    "## Training with k-fold:\n",
    "model = 'LR'\n",
    "\n",
    "with open('data/parameters.json') as json_file:\n",
    "    parameters = json.load(json_file)\n",
    "\n",
    "poly = parameters[model]['poly']\n",
    "best_w, avg_loss = train_model(tX=tX_std,\n",
    "                               y=y,\n",
    "                               model=model,\n",
    "                               initial_w=np.zeros(tX.shape[1] * poly + 1),\n",
    "                               param=parameters)"
   ]
  },
  {
   "cell_type": "markdown",
   "metadata": {},
   "source": [
    "## Generate predictions and save ouput in csv format for submission:"
   ]
  },
  {
   "cell_type": "markdown",
   "metadata": {},
   "source": [
    "#### Preprocess X_Test as tX:"
   ]
  },
  {
   "cell_type": "code",
   "execution_count": 207,
   "metadata": {},
   "outputs": [],
   "source": [
    "# Choose method: \n",
    "from datetime import date\n",
    "today = date.today().strftime('%m-%d')\n",
    "\n",
    "# parameters:\n",
    "params = ''\n",
    "for param in parameters[model]:\n",
    "    params+= param+'='+str(parameters[model][param])+','\n",
    "    \n",
    "if not os.path.exists('data/results'):\n",
    "    os.makedirs('data/results')\n",
    "    \n",
    "import pandas as pd\n",
    "test_prediction = predict_labels(best_w, tX_test_std)\n",
    "OUTPUT_PATH = 'data/results/y_pred_' + model + '_'+str(today)+'_'+params+'.csv'\n",
    "create_csv_submission(ids_test, test_prediction, OUTPUT_PATH)"
   ]
  },
  {
   "cell_type": "code",
   "execution_count": 208,
   "metadata": {
    "scrolled": true
   },
   "outputs": [],
   "source": [
    "good_pred = pd.read_csv('data/results/y_pred_LR_10-24_lambda_=0.02,lr=0.7,max_iters=350,K=5,poly=3,.csv')"
   ]
  },
  {
   "cell_type": "code",
   "execution_count": 209,
   "metadata": {},
   "outputs": [
    {
     "data": {
      "text/plain": [
       "False"
      ]
     },
     "execution_count": 209,
     "metadata": {},
     "output_type": "execute_result"
    }
   ],
   "source": [
    "np.all(good_pred['Prediction'].values == predict_labels(best_w, tX_test_std))"
   ]
  },
  {
   "cell_type": "markdown",
   "metadata": {},
   "source": [
    "## Next: \n",
    "\n",
    "- Grid search for best parameters\n",
    "- Pre-processing: look for outliers, etc\n",
    "- Dimension reduction by PCA or Laplacian dimension reduction.\n",
    "- Etude comparative\n",
    "- implentations.py\n",
    "- Rapport\n",
    "\n",
    "### Questions: \n",
    "- encoding of y : 0vs1 / -1vs1 ? \n",
    "- predict labels ? \n",
    "Jäggi: more/better data cleaning, preprocessing and feature expansions or variants for example"
   ]
  },
  {
   "cell_type": "code",
   "execution_count": null,
   "metadata": {},
   "outputs": [],
   "source": []
  }
 ],
 "metadata": {
  "kernelspec": {
   "display_name": "Python 3",
   "language": "python",
   "name": "python3"
  },
  "language_info": {
   "codemirror_mode": {
    "name": "ipython",
    "version": 3
   },
   "file_extension": ".py",
   "mimetype": "text/x-python",
   "name": "python",
   "nbconvert_exporter": "python",
   "pygments_lexer": "ipython3",
   "version": "3.7.3"
  },
  "toc": {
   "base_numbering": 1,
   "nav_menu": {},
   "number_sections": true,
   "sideBar": true,
   "skip_h1_title": false,
   "title_cell": "Table of Contents",
   "title_sidebar": "Contents",
   "toc_cell": false,
   "toc_position": {
    "height": "calc(100% - 180px)",
    "left": "10px",
    "top": "150px",
    "width": "165px"
   },
   "toc_section_display": true,
   "toc_window_display": true
  }
 },
 "nbformat": 4,
 "nbformat_minor": 4
}
